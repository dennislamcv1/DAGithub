{
 "cells": [
  {
   "cell_type": "markdown",
   "metadata": {},
   "source": [
    "__CONTEXT__\n",
    "<br>In this exercise, you will use the same data set about forest fires in Brazil from Module 3.\n",
    "\n",
    "Forest fires in Brazil are occurring more frequently and becoming more severe every year. Forestry officials need to understand the frequency of the forest fires and find other patterns using exploratory data analysis to help them prevent these destructive fires. For this purpose, you will analyse forest fire data from Brazilian forestry departments.\n",
    "\n",
    "You can download the data set here:\n",
    "<br>https://dados.gov.br/dataset/sistema-nacional-de-informacoes-florestais-snif/resource/949310f1-05bc-4f56-a63f-aef67aac6164\n",
    "\n",
    "\n",
    "For this exercise, the data has been pre-formatted as comma-separated values and translated into English where applicable. The data is available as a csv file in the folder named as __dataset__. Make sure that the dataset folder and Python Notebook are at the same level. \n",
    "\n",
    "<br>The variables in the data set are:\n",
    "-\tYear: when the fire occured\n",
    "-\tState: where the fire was reported\n",
    "-\tMonth: when the fire occurred\n",
    "-\tNumber of fires: frequency reported\n",
    "-\tDate reported: when the fire was reported."
   ]
  },
  {
   "cell_type": "markdown",
   "metadata": {},
   "source": [
    "## TO DO - Activity 1 - Import Packages\n",
    "In the code cell below import the \n",
    "- Pandas as __pd__ \n",
    "- NumPy as __np__\n",
    "- pyplot from matplotlib as __plt__."
   ]
  },
  {
   "cell_type": "code",
   "execution_count": 1,
   "metadata": {},
   "outputs": [],
   "source": [
    "# Add Code for Activity 1"
   ]
  },
  {
   "cell_type": "markdown",
   "metadata": {},
   "source": [
    "As a next step, we will import the csv data into the Pandas DataFrame. You have already learnt how to import the csv data from a file into Pandas DataFrames."
   ]
  },
  {
   "cell_type": "markdown",
   "metadata": {},
   "source": [
    "# TO DO - Activity 2 - Load Data from CSV File to Pandas DataFrame\n",
    "In this step, you will write the code to load a CSV file into a Pandas DataFrame.\n",
    "\n",
    "Write code to perform the following:\n",
    "1. Create a DataFrame named df_ffire.\n",
    "2. In this DataFrame, load a csv file using the Pandas __read_csv()__ function.\n",
    "3. The full path and filename is __\"./dataset/module4/brazilianfire.csv\"__.\n",
    "4. Note that the CSV file has a header record with variables. You need to rearrange the data in DataFrame in the this order:\n",
    "    - Date Reported\n",
    "    - Year\n",
    "    - Month\n",
    "    - State\n",
    "    - Number of Fires\n",
    "5. Display the DataFrame (top 10 rows) and verify that the columns are in order.\n",
    "6. Generate the statistical summary of the dataFrame for all the columns."
   ]
  },
  {
   "cell_type": "code",
   "execution_count": 2,
   "metadata": {},
   "outputs": [],
   "source": [
    "#Add code for Activity 2 here (Step 1 to 5)"
   ]
  },
  {
   "cell_type": "code",
   "execution_count": 3,
   "metadata": {},
   "outputs": [],
   "source": [
    "#Add Code for Activity 2 here (Step 6)"
   ]
  },
  {
   "cell_type": "markdown",
   "metadata": {},
   "source": [
    "# TO DO - Activity 3\n",
    "\n",
    "Based on the information collected so far, can you answer these questions?\n",
    "\n",
    "1. What is the maximum number of fires reported on any given day?\n",
    "2. In the dataset, what is the total number of states that have reported fire incidents?"
   ]
  },
  {
   "cell_type": "markdown",
   "metadata": {},
   "source": [
    "## Provide the Answers to Activity 3 in this Cell\n",
    "__Questions__\n",
    "1. What is the maximum number of fires reported on any given day?\n",
    "2. In the dataset, what is the total number of states that have reported fire incidents?\n",
    "\n",
    "__Answers__\n",
    "1. <Add here>\n",
    "2. <Add here>"
   ]
  },
  {
   "cell_type": "markdown",
   "metadata": {},
   "source": [
    "### NOTE: We will extend this notebook further, through the assignment in Module 5."
   ]
  }
 ],
 "metadata": {
  "kernelspec": {
   "display_name": "Python 3",
   "language": "python",
   "name": "python3"
  },
  "language_info": {
   "codemirror_mode": {
    "name": "ipython",
    "version": 3
   },
   "file_extension": ".py",
   "mimetype": "text/x-python",
   "name": "python",
   "nbconvert_exporter": "python",
   "pygments_lexer": "ipython3",
   "version": "3.7.3"
  }
 },
 "nbformat": 4,
 "nbformat_minor": 2
}
