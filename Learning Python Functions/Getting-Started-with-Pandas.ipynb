{
 "cells": [
  {
   "cell_type": "markdown",
   "metadata": {},
   "source": [
    "# 3.3 Getting Started with Pandas\n",
    "\n",
    ">This is an accompanying notebook with the module __MC_DAP01_3.3_Getting Started with Pandas__\n",
    "><br>All the code snippet used in the section are available in this notebook for reference purposes.\n"
   ]
  },
  {
   "cell_type": "markdown",
   "metadata": {},
   "source": [
    "## Introduction to Pandas\n",
    "\n",
    "Pandas is considered to be one of the most favorite Python libraries to work with. Perhaps because it is the workhorse for data analysts using Python!\n",
    "\n",
    "### Pandas = Panel + Data \n",
    "    \n",
    "Etymologically, Pandas is a portmanteau from ‘Panel’ and ‘Data’. Panel data is a term commonly used for the data sets that contain data with observations over a period of time for the same subject / individuals each time.\n",
    "    \n",
    "### Pandas functionalities\n",
    "\n",
    "There are many Pandas functionalities that include:\n",
    "\n",
    "- loading your data from a file to start your analysis\n",
    "- previewing your data to understand the data\n",
    "- manipulating your data for gathering better insights \n",
    "- transforming your data from one format to another\n",
    "\n",
    "\n",
    "As in Python, to use a module in your Pandas program you first need to import it.\n",
    "\n",
    "### Importing Pandas\n",
    "    \n",
    "Similar to NumPy, to start using Pandas and all of the functions available, you are required to import the package. This can be easily done using the following code:\n"
   ]
  },
  {
   "cell_type": "code",
   "execution_count": 1,
   "metadata": {},
   "outputs": [],
   "source": [
    "##Importing Pandas package\n",
    "import pandas as pd"
   ]
  },
  {
   "cell_type": "markdown",
   "metadata": {},
   "source": [
    "There is an unstated, undocumented convention that is followed in the Python world – using ‘pd’ as the reference name while importing Pandas. Technically, any other name can be used, but this is the convention generally followed.\n",
    "\n",
    "### How is it different from NumPy?\n",
    "\n",
    "NumPy is powerful, but it lacks some high-level functions and abstractions that are needed for solving everyday problems for a data analyst using structured data tables. \n",
    "\n",
    "For example:\n",
    "- Labelled columns: Labelled data is especially useful in explicit data alignment while loading data to Pandas.\n",
    "- Reading from files: Datasets stored in CSV and XLSX (among other formats) can be read easily using Pandas.\n",
    "\n",
    "Pandas is a fast, powerful, flexible, and easy to use open source data analysis and data manipulation tool for Python. Pandas is built on top of NumPy and makes it easy to use in data analytics applications.\n",
    "\n",
    "That being said it is very important and useful to learn NumPy, as a lot of the core features of Pandas and other packages are based on NumPy functionality."
   ]
  },
  {
   "cell_type": "markdown",
   "metadata": {},
   "source": [
    "## Pandas data structures\n",
    "There are two fundamental data structures which Pandas provide:\n",
    "- Pandas Series, and\n",
    "- Pandas DataFrame\n",
    "\n",
    "Both these two data structures provide a solid basis for most of the applications that you would build in Python.\n",
    "\n",
    "__Pandas Series__ is a one-dimensional Array-like object consisting of Array of data, Array of labels, also known as index, whereas:\n",
    "\n",
    "__DataFrame__ is a two-dimensional structure and it represents a tabular, spreadsheet-like data structure with an ordered collection of columns. It has an index for both rows and columns.\n",
    "\n",
    "Let’s explore these data structures in some detail in the subsequent sections.\n"
   ]
  },
  {
   "cell_type": "markdown",
   "metadata": {},
   "source": [
    "## Pandas Series\n",
    "Pandas Series is a\n",
    "- is a one-dimensional Array that can hold data of any type\n",
    "- contains an Array of data\n",
    "- contains an associated Array of labels, which is also known as its index.\n",
    "\n",
    "\n",
    "### Creating Pandas Series\n",
    "\n",
    "A simplest way to create a series is to pass an Array of data to Series function, as is highlighted in the code snippet below:"
   ]
  },
  {
   "cell_type": "code",
   "execution_count": 2,
   "metadata": {},
   "outputs": [],
   "source": [
    "import pandas as pd\n",
    "import numpy as np\n",
    "from pandas import Series, DataFrame"
   ]
  },
  {
   "cell_type": "code",
   "execution_count": 3,
   "metadata": {},
   "outputs": [
    {
     "data": {
      "text/plain": [
       "0    1\n",
       "1    2\n",
       "2    3\n",
       "3    4\n",
       "4    5\n",
       "5    6\n",
       "6    7\n",
       "dtype: int64"
      ]
     },
     "execution_count": 3,
     "metadata": {},
     "output_type": "execute_result"
    }
   ],
   "source": [
    "ser1 = Series([1,2,3,4,5,6,7])\n",
    "ser1"
   ]
  },
  {
   "cell_type": "markdown",
   "metadata": {},
   "source": [
    "Looking at the output of the code above, we can infer that:\n",
    "\n",
    "- the second column contains the Array data\n",
    "- the first column contains the default labels (ie, default index assigned to the data)."
   ]
  },
  {
   "cell_type": "markdown",
   "metadata": {},
   "source": [
    "### Accessing data and index of Series\n",
    "\n",
    "Just a while ago, while describing Series, we said that it can contain both Array of the data and Array of the labels.\n",
    "\n",
    "So, there must be some mechanism available to extract the Array of data, and Array of indexes from Pandas Series. There are two attributes, values and index, that return the Array representation of the data and the index object of the Series respectively.\n",
    "\n",
    "The following code snippet highlights this functionality:  "
   ]
  },
  {
   "cell_type": "code",
   "execution_count": 4,
   "metadata": {},
   "outputs": [
    {
     "data": {
      "text/plain": [
       "array([1, 2, 3, 4, 5, 6, 7])"
      ]
     },
     "execution_count": 4,
     "metadata": {},
     "output_type": "execute_result"
    }
   ],
   "source": [
    "ser1.values"
   ]
  },
  {
   "cell_type": "code",
   "execution_count": 5,
   "metadata": {},
   "outputs": [
    {
     "data": {
      "text/plain": [
       "RangeIndex(start=0, stop=7, step=1)"
      ]
     },
     "execution_count": 5,
     "metadata": {},
     "output_type": "execute_result"
    }
   ],
   "source": [
    "ser1.index"
   ]
  },
  {
   "cell_type": "markdown",
   "metadata": {},
   "source": [
    "### Creating Series with explicit labelling\n",
    "\n",
    "Often it is required to create a Series with a labelled index for each data point. This is achieved by passing the index labels to Series function. \n",
    "\n",
    "This is highlighted in the code snippet below:"
   ]
  },
  {
   "cell_type": "code",
   "execution_count": 6,
   "metadata": {},
   "outputs": [
    {
     "data": {
      "text/plain": [
       "a    1\n",
       "b    2\n",
       "c    3\n",
       "d    4\n",
       "e    5\n",
       "f    6\n",
       "g    7\n",
       "dtype: int64"
      ]
     },
     "execution_count": 6,
     "metadata": {},
     "output_type": "execute_result"
    }
   ],
   "source": [
    "ser2 = Series([1,2,3,4,5,6,7], index=['a','b','c','d','e','f','g'])\n",
    "ser2"
   ]
  },
  {
   "cell_type": "code",
   "execution_count": 7,
   "metadata": {},
   "outputs": [
    {
     "data": {
      "text/plain": [
       "array([1, 2, 3, 4, 5, 6, 7])"
      ]
     },
     "execution_count": 7,
     "metadata": {},
     "output_type": "execute_result"
    }
   ],
   "source": [
    "ser2.values"
   ]
  },
  {
   "cell_type": "code",
   "execution_count": 8,
   "metadata": {},
   "outputs": [
    {
     "data": {
      "text/plain": [
       "Index(['a', 'b', 'c', 'd', 'e', 'f', 'g'], dtype='object')"
      ]
     },
     "execution_count": 8,
     "metadata": {},
     "output_type": "execute_result"
    }
   ],
   "source": [
    "ser2.index"
   ]
  },
  {
   "cell_type": "markdown",
   "metadata": {},
   "source": [
    "### Accessing values using indexes (default index or explicit index)\n",
    "\n",
    "Values in the Series can be accessed using the index notation. We can either pass a single index or multiple indexes (Default index or Explicit index) to access the values. \n",
    "\n",
    "The code snippet below highlights the behaviour:"
   ]
  },
  {
   "cell_type": "code",
   "execution_count": 9,
   "metadata": {},
   "outputs": [
    {
     "data": {
      "text/plain": [
       "a    1\n",
       "b    2\n",
       "c    3\n",
       "d    4\n",
       "e    5\n",
       "f    6\n",
       "g    7\n",
       "dtype: int64"
      ]
     },
     "execution_count": 9,
     "metadata": {},
     "output_type": "execute_result"
    }
   ],
   "source": [
    "ser2"
   ]
  },
  {
   "cell_type": "code",
   "execution_count": 10,
   "metadata": {},
   "outputs": [
    {
     "data": {
      "text/plain": [
       "(1, 6)"
      ]
     },
     "execution_count": 10,
     "metadata": {},
     "output_type": "execute_result"
    }
   ],
   "source": [
    "ser2['a'], ser2['f']"
   ]
  },
  {
   "cell_type": "code",
   "execution_count": 11,
   "metadata": {},
   "outputs": [
    {
     "data": {
      "text/plain": [
       "a    1\n",
       "b    2\n",
       "f    6\n",
       "dtype: int64"
      ]
     },
     "execution_count": 11,
     "metadata": {},
     "output_type": "execute_result"
    }
   ],
   "source": [
    "ser2[['a','b','f']]"
   ]
  },
  {
   "cell_type": "markdown",
   "metadata": {},
   "source": [
    "### Creating Series from Python Dictionaries\n",
    "\n",
    "\n",
    "A Pandas Series can also be created by passing a dictionary object to Series Function. In this particular case, the keys of the dictionary will be assigned as the labels of the Series, and the values of the dictionary become the data of the Series.\n",
    "\n",
    "The code snippet below highlights the behaviour.\n",
    "\n",
    "- We have first created a dictionary with a key:value pair, where:\n",
    "    <br>Key = country code\n",
    "    <br>Value = description of currency.\n",
    "\n",
    "- We have created the Pandas series by passing the dictionary to the Series() function: \n",
    "    <br>The values from dictionary = the data for series\n",
    "    <br>The keys from the dictionary = the index for the series.\n"
   ]
  },
  {
   "cell_type": "code",
   "execution_count": 12,
   "metadata": {},
   "outputs": [
    {
     "data": {
      "text/plain": [
       "{'AU': 'Australian Dollar',\n",
       " 'US': 'US Dollar',\n",
       " 'IN': 'Indian Ruppees',\n",
       " 'DK': 'Danish Krones',\n",
       " 'SW': 'Swiss Francs'}"
      ]
     },
     "execution_count": 12,
     "metadata": {},
     "output_type": "execute_result"
    }
   ],
   "source": [
    "dict_1 = {'AU':'Australian Dollar',\n",
    "         'US': 'US Dollar',\n",
    "         'IN': 'Indian Ruppees',\n",
    "         'DK': 'Danish Krones',\n",
    "         'SW': 'Swiss Francs'}\n",
    "dict_1"
   ]
  },
  {
   "cell_type": "code",
   "execution_count": 13,
   "metadata": {},
   "outputs": [
    {
     "data": {
      "text/plain": [
       "AU    Australian Dollar\n",
       "US            US Dollar\n",
       "IN       Indian Ruppees\n",
       "DK        Danish Krones\n",
       "SW         Swiss Francs\n",
       "dtype: object"
      ]
     },
     "execution_count": 13,
     "metadata": {},
     "output_type": "execute_result"
    }
   ],
   "source": [
    "ser1 = Series(dict_1)\n",
    "ser1"
   ]
  },
  {
   "cell_type": "code",
   "execution_count": 14,
   "metadata": {},
   "outputs": [
    {
     "data": {
      "text/plain": [
       "Index(['AU', 'US', 'IN', 'DK', 'SW'], dtype='object')"
      ]
     },
     "execution_count": 14,
     "metadata": {},
     "output_type": "execute_result"
    }
   ],
   "source": [
    "ser1.index"
   ]
  },
  {
   "cell_type": "markdown",
   "metadata": {},
   "source": [
    "### Name Attribute for Series and index\n",
    "\n",
    "Both the Pandas Series and its index have the ‘name’ attribute, and this is used at various places during programming with Pandas. We will see its usage in some exercises during the course.\n",
    "\n",
    "For now, it’s good to remember that such an attribute exists and its value can be accessed programmatically.\n",
    "\n",
    "The following code snippet highlights the ‘Name’ attribute. You can see that when we display: \n",
    "- the Series, the Name of the Series is displayed along with the data\n",
    "- the index, the Name of index is also displayed along with the respective indexes.\n",
    "\n"
   ]
  },
  {
   "cell_type": "code",
   "execution_count": 15,
   "metadata": {},
   "outputs": [],
   "source": [
    "ser1.name = \"Currency\"\n",
    "ser1.index.name=\"Country\""
   ]
  },
  {
   "cell_type": "code",
   "execution_count": 16,
   "metadata": {},
   "outputs": [
    {
     "data": {
      "text/plain": [
       "Country\n",
       "AU    Australian Dollar\n",
       "US            US Dollar\n",
       "IN       Indian Ruppees\n",
       "DK        Danish Krones\n",
       "SW         Swiss Francs\n",
       "Name: Currency, dtype: object"
      ]
     },
     "execution_count": 16,
     "metadata": {},
     "output_type": "execute_result"
    }
   ],
   "source": [
    "ser1"
   ]
  },
  {
   "cell_type": "code",
   "execution_count": 17,
   "metadata": {},
   "outputs": [
    {
     "data": {
      "text/plain": [
       "Index(['AU', 'US', 'IN', 'DK', 'SW'], dtype='object', name='Country')"
      ]
     },
     "execution_count": 17,
     "metadata": {},
     "output_type": "execute_result"
    }
   ],
   "source": [
    "ser1.index"
   ]
  },
  {
   "cell_type": "markdown",
   "metadata": {},
   "source": [
    "## Pandas DataFrame\n",
    "\n",
    "A Pandas DataFrame:\n",
    "-is a tabular, spreadsheet-like data structure\n",
    "-contains an ordered list of columns, and each can have different data types\n",
    "-has indexes or labels for both rows and columns\n",
    "\n",
    "Let’s explore it through examples.\n",
    "\n",
    "\n",
    "### Creating a Pandas DataFrame\n",
    "\n",
    "There are various ways a DataFrame can be created using the function DataFrame(), but one of the common ways is to pass a dictionary of equal length list or NumPy Arrays. In this case, the keys will be column labels / index.\n",
    "\n",
    "The following code snippet will highlight this behaviour:"
   ]
  },
  {
   "cell_type": "code",
   "execution_count": 18,
   "metadata": {},
   "outputs": [],
   "source": [
    "data = {\n",
    "    'state':['WA', 'SA', 'VIC', 'NSW', 'ACT', 'QLD', 'NT'],\n",
    "    'pop': [1,1,2.5,2.7,0.5,1.5,0.4],\n",
    "    'TZ': ['GMT+8', 'GMT+9.30','GMT+10', 'GMT+10', 'GMT+10', 'GMT+10', 'GMT+9.30']\n",
    "}"
   ]
  },
  {
   "cell_type": "code",
   "execution_count": 19,
   "metadata": {},
   "outputs": [
    {
     "data": {
      "text/html": [
       "<div>\n",
       "<style scoped>\n",
       "    .dataframe tbody tr th:only-of-type {\n",
       "        vertical-align: middle;\n",
       "    }\n",
       "\n",
       "    .dataframe tbody tr th {\n",
       "        vertical-align: top;\n",
       "    }\n",
       "\n",
       "    .dataframe thead th {\n",
       "        text-align: right;\n",
       "    }\n",
       "</style>\n",
       "<table border=\"1\" class=\"dataframe\">\n",
       "  <thead>\n",
       "    <tr style=\"text-align: right;\">\n",
       "      <th></th>\n",
       "      <th>state</th>\n",
       "      <th>pop</th>\n",
       "      <th>TZ</th>\n",
       "    </tr>\n",
       "  </thead>\n",
       "  <tbody>\n",
       "    <tr>\n",
       "      <th>0</th>\n",
       "      <td>WA</td>\n",
       "      <td>1.0</td>\n",
       "      <td>GMT+8</td>\n",
       "    </tr>\n",
       "    <tr>\n",
       "      <th>1</th>\n",
       "      <td>SA</td>\n",
       "      <td>1.0</td>\n",
       "      <td>GMT+9.30</td>\n",
       "    </tr>\n",
       "    <tr>\n",
       "      <th>2</th>\n",
       "      <td>VIC</td>\n",
       "      <td>2.5</td>\n",
       "      <td>GMT+10</td>\n",
       "    </tr>\n",
       "    <tr>\n",
       "      <th>3</th>\n",
       "      <td>NSW</td>\n",
       "      <td>2.7</td>\n",
       "      <td>GMT+10</td>\n",
       "    </tr>\n",
       "    <tr>\n",
       "      <th>4</th>\n",
       "      <td>ACT</td>\n",
       "      <td>0.5</td>\n",
       "      <td>GMT+10</td>\n",
       "    </tr>\n",
       "    <tr>\n",
       "      <th>5</th>\n",
       "      <td>QLD</td>\n",
       "      <td>1.5</td>\n",
       "      <td>GMT+10</td>\n",
       "    </tr>\n",
       "    <tr>\n",
       "      <th>6</th>\n",
       "      <td>NT</td>\n",
       "      <td>0.4</td>\n",
       "      <td>GMT+9.30</td>\n",
       "    </tr>\n",
       "  </tbody>\n",
       "</table>\n",
       "</div>"
      ],
      "text/plain": [
       "  state  pop        TZ\n",
       "0    WA  1.0     GMT+8\n",
       "1    SA  1.0  GMT+9.30\n",
       "2   VIC  2.5    GMT+10\n",
       "3   NSW  2.7    GMT+10\n",
       "4   ACT  0.5    GMT+10\n",
       "5   QLD  1.5    GMT+10\n",
       "6    NT  0.4  GMT+9.30"
      ]
     },
     "execution_count": 19,
     "metadata": {},
     "output_type": "execute_result"
    }
   ],
   "source": [
    "df_states = DataFrame(data)\n",
    "df_states"
   ]
  },
  {
   "cell_type": "markdown",
   "metadata": {},
   "source": [
    "Later in the course, we will see how to populate DataFrames using CSV files and databases.\n",
    "\n",
    "\n",
    "### Specifying the sequence of columns\n",
    "\n",
    "We can also specify the sequence or order of the columns for DataFrame, as a result of which data will be arranged in the column order specified.\n",
    "\n",
    "See below code snippet for demonstration:"
   ]
  },
  {
   "cell_type": "code",
   "execution_count": 20,
   "metadata": {},
   "outputs": [
    {
     "data": {
      "text/html": [
       "<div>\n",
       "<style scoped>\n",
       "    .dataframe tbody tr th:only-of-type {\n",
       "        vertical-align: middle;\n",
       "    }\n",
       "\n",
       "    .dataframe tbody tr th {\n",
       "        vertical-align: top;\n",
       "    }\n",
       "\n",
       "    .dataframe thead th {\n",
       "        text-align: right;\n",
       "    }\n",
       "</style>\n",
       "<table border=\"1\" class=\"dataframe\">\n",
       "  <thead>\n",
       "    <tr style=\"text-align: right;\">\n",
       "      <th></th>\n",
       "      <th>state</th>\n",
       "      <th>TZ</th>\n",
       "      <th>pop</th>\n",
       "    </tr>\n",
       "  </thead>\n",
       "  <tbody>\n",
       "    <tr>\n",
       "      <th>0</th>\n",
       "      <td>WA</td>\n",
       "      <td>GMT+8</td>\n",
       "      <td>1.0</td>\n",
       "    </tr>\n",
       "    <tr>\n",
       "      <th>1</th>\n",
       "      <td>SA</td>\n",
       "      <td>GMT+9.30</td>\n",
       "      <td>1.0</td>\n",
       "    </tr>\n",
       "    <tr>\n",
       "      <th>2</th>\n",
       "      <td>VIC</td>\n",
       "      <td>GMT+10</td>\n",
       "      <td>2.5</td>\n",
       "    </tr>\n",
       "    <tr>\n",
       "      <th>3</th>\n",
       "      <td>NSW</td>\n",
       "      <td>GMT+10</td>\n",
       "      <td>2.7</td>\n",
       "    </tr>\n",
       "    <tr>\n",
       "      <th>4</th>\n",
       "      <td>ACT</td>\n",
       "      <td>GMT+10</td>\n",
       "      <td>0.5</td>\n",
       "    </tr>\n",
       "    <tr>\n",
       "      <th>5</th>\n",
       "      <td>QLD</td>\n",
       "      <td>GMT+10</td>\n",
       "      <td>1.5</td>\n",
       "    </tr>\n",
       "    <tr>\n",
       "      <th>6</th>\n",
       "      <td>NT</td>\n",
       "      <td>GMT+9.30</td>\n",
       "      <td>0.4</td>\n",
       "    </tr>\n",
       "  </tbody>\n",
       "</table>\n",
       "</div>"
      ],
      "text/plain": [
       "  state        TZ  pop\n",
       "0    WA     GMT+8  1.0\n",
       "1    SA  GMT+9.30  1.0\n",
       "2   VIC    GMT+10  2.5\n",
       "3   NSW    GMT+10  2.7\n",
       "4   ACT    GMT+10  0.5\n",
       "5   QLD    GMT+10  1.5\n",
       "6    NT  GMT+9.30  0.4"
      ]
     },
     "execution_count": 20,
     "metadata": {},
     "output_type": "execute_result"
    }
   ],
   "source": [
    "df_states=DataFrame(data, columns=['state','TZ','pop'])\n",
    "df_states"
   ]
  },
  {
   "cell_type": "markdown",
   "metadata": {},
   "source": [
    "If a column name is specified but there is no data supplied for that data column, then DataFrame will fill the null values or NaN for that column."
   ]
  },
  {
   "cell_type": "code",
   "execution_count": 21,
   "metadata": {},
   "outputs": [
    {
     "data": {
      "text/html": [
       "<div>\n",
       "<style scoped>\n",
       "    .dataframe tbody tr th:only-of-type {\n",
       "        vertical-align: middle;\n",
       "    }\n",
       "\n",
       "    .dataframe tbody tr th {\n",
       "        vertical-align: top;\n",
       "    }\n",
       "\n",
       "    .dataframe thead th {\n",
       "        text-align: right;\n",
       "    }\n",
       "</style>\n",
       "<table border=\"1\" class=\"dataframe\">\n",
       "  <thead>\n",
       "    <tr style=\"text-align: right;\">\n",
       "      <th></th>\n",
       "      <th>state</th>\n",
       "      <th>TZ</th>\n",
       "      <th>pop</th>\n",
       "      <th>GDP</th>\n",
       "    </tr>\n",
       "  </thead>\n",
       "  <tbody>\n",
       "    <tr>\n",
       "      <th>0</th>\n",
       "      <td>WA</td>\n",
       "      <td>GMT+8</td>\n",
       "      <td>1.0</td>\n",
       "      <td>NaN</td>\n",
       "    </tr>\n",
       "    <tr>\n",
       "      <th>1</th>\n",
       "      <td>SA</td>\n",
       "      <td>GMT+9.30</td>\n",
       "      <td>1.0</td>\n",
       "      <td>NaN</td>\n",
       "    </tr>\n",
       "    <tr>\n",
       "      <th>2</th>\n",
       "      <td>VIC</td>\n",
       "      <td>GMT+10</td>\n",
       "      <td>2.5</td>\n",
       "      <td>NaN</td>\n",
       "    </tr>\n",
       "    <tr>\n",
       "      <th>3</th>\n",
       "      <td>NSW</td>\n",
       "      <td>GMT+10</td>\n",
       "      <td>2.7</td>\n",
       "      <td>NaN</td>\n",
       "    </tr>\n",
       "    <tr>\n",
       "      <th>4</th>\n",
       "      <td>ACT</td>\n",
       "      <td>GMT+10</td>\n",
       "      <td>0.5</td>\n",
       "      <td>NaN</td>\n",
       "    </tr>\n",
       "    <tr>\n",
       "      <th>5</th>\n",
       "      <td>QLD</td>\n",
       "      <td>GMT+10</td>\n",
       "      <td>1.5</td>\n",
       "      <td>NaN</td>\n",
       "    </tr>\n",
       "    <tr>\n",
       "      <th>6</th>\n",
       "      <td>NT</td>\n",
       "      <td>GMT+9.30</td>\n",
       "      <td>0.4</td>\n",
       "      <td>NaN</td>\n",
       "    </tr>\n",
       "  </tbody>\n",
       "</table>\n",
       "</div>"
      ],
      "text/plain": [
       "  state        TZ  pop  GDP\n",
       "0    WA     GMT+8  1.0  NaN\n",
       "1    SA  GMT+9.30  1.0  NaN\n",
       "2   VIC    GMT+10  2.5  NaN\n",
       "3   NSW    GMT+10  2.7  NaN\n",
       "4   ACT    GMT+10  0.5  NaN\n",
       "5   QLD    GMT+10  1.5  NaN\n",
       "6    NT  GMT+9.30  0.4  NaN"
      ]
     },
     "execution_count": 21,
     "metadata": {},
     "output_type": "execute_result"
    }
   ],
   "source": [
    "#If a Column Name is specified, but no data is supplied\n",
    "#then column will contain Null Values\n",
    "df_states1=DataFrame(data, columns=['state','TZ','pop','GDP'])\n",
    "df_states1"
   ]
  },
  {
   "cell_type": "markdown",
   "metadata": {},
   "source": [
    "### Specifying the row labels\n",
    "\n",
    "As we have seen in the case of Series, we can specify the explicit indexes for the rows for DataFrame. This is done by passing the index parameter to the DataFrame function. The index parameter can be either:\n",
    "- the list of labels\n",
    "- the name of the column / key in the data provided, that should be treated as index.\n",
    "\n",
    "See the code example below for the demonstration:"
   ]
  },
  {
   "cell_type": "code",
   "execution_count": 22,
   "metadata": {},
   "outputs": [
    {
     "data": {
      "text/html": [
       "<div>\n",
       "<style scoped>\n",
       "    .dataframe tbody tr th:only-of-type {\n",
       "        vertical-align: middle;\n",
       "    }\n",
       "\n",
       "    .dataframe tbody tr th {\n",
       "        vertical-align: top;\n",
       "    }\n",
       "\n",
       "    .dataframe thead th {\n",
       "        text-align: right;\n",
       "    }\n",
       "</style>\n",
       "<table border=\"1\" class=\"dataframe\">\n",
       "  <thead>\n",
       "    <tr style=\"text-align: right;\">\n",
       "      <th></th>\n",
       "      <th>state</th>\n",
       "      <th>TZ</th>\n",
       "      <th>pop</th>\n",
       "    </tr>\n",
       "  </thead>\n",
       "  <tbody>\n",
       "    <tr>\n",
       "      <th>WA</th>\n",
       "      <td>Western Australia</td>\n",
       "      <td>GMT+8</td>\n",
       "      <td>1.0</td>\n",
       "    </tr>\n",
       "    <tr>\n",
       "      <th>SA</th>\n",
       "      <td>Southern Australia</td>\n",
       "      <td>GMT+9.30</td>\n",
       "      <td>1.0</td>\n",
       "    </tr>\n",
       "    <tr>\n",
       "      <th>VIC</th>\n",
       "      <td>Victoria</td>\n",
       "      <td>GMT+10</td>\n",
       "      <td>2.5</td>\n",
       "    </tr>\n",
       "    <tr>\n",
       "      <th>NSW</th>\n",
       "      <td>New South Wales</td>\n",
       "      <td>GMT+10</td>\n",
       "      <td>2.7</td>\n",
       "    </tr>\n",
       "    <tr>\n",
       "      <th>ACT</th>\n",
       "      <td>Australian Capital Territory</td>\n",
       "      <td>GMT+10</td>\n",
       "      <td>0.5</td>\n",
       "    </tr>\n",
       "    <tr>\n",
       "      <th>QLD</th>\n",
       "      <td>Queensland</td>\n",
       "      <td>GMT+10</td>\n",
       "      <td>1.5</td>\n",
       "    </tr>\n",
       "    <tr>\n",
       "      <th>NT</th>\n",
       "      <td>Northern Territory</td>\n",
       "      <td>GMT+9.30</td>\n",
       "      <td>0.4</td>\n",
       "    </tr>\n",
       "  </tbody>\n",
       "</table>\n",
       "</div>"
      ],
      "text/plain": [
       "                            state        TZ  pop\n",
       "WA              Western Australia     GMT+8  1.0\n",
       "SA             Southern Australia  GMT+9.30  1.0\n",
       "VIC                      Victoria    GMT+10  2.5\n",
       "NSW               New South Wales    GMT+10  2.7\n",
       "ACT  Australian Capital Territory    GMT+10  0.5\n",
       "QLD                    Queensland    GMT+10  1.5\n",
       "NT             Northern Territory  GMT+9.30  0.4"
      ]
     },
     "execution_count": 22,
     "metadata": {},
     "output_type": "execute_result"
    }
   ],
   "source": [
    "#\"Specifying the Row Labels, or Indexes\"\n",
    "data = {\n",
    "    'state':['Western Australia', 'Southern Australia', 'Victoria', 'New South Wales', 'Australian Capital Territory', 'Queensland', 'Northern Territory'],\n",
    "    'pop': [1,1,2.5,2.7,0.5,1.5,0.4],\n",
    "    'TZ': ['GMT+8', 'GMT+9.30','GMT+10', 'GMT+10', 'GMT+10', 'GMT+10', 'GMT+9.30']\n",
    "}\n",
    "\n",
    "row_labels = ['WA', 'SA','VIC','NSW','ACT','QLD','NT']\n",
    "df_states_lbl = DataFrame(data, columns=['state','TZ','pop'], index=row_labels)\n",
    "df_states_lbl"
   ]
  },
  {
   "cell_type": "markdown",
   "metadata": {},
   "source": [
    "### Retrieving Columns from DataFrame\n",
    "\n",
    "Individual columns in DataFrame are stored as Pandas Series. We can access the data in the individual columns by either:\n",
    "- using index Notation and passing the column name as the index\n",
    "- using the df.Attribute notation, where the column name itself is the name of the attribute.\n",
    "\n",
    "While retrieving the individual columns, the index of DataFrame is retained in the retrieved Series.\n",
    "\n",
    "The following code snippet showcases this behaviour:\n",
    "\n"
   ]
  },
  {
   "cell_type": "code",
   "execution_count": 23,
   "metadata": {},
   "outputs": [
    {
     "data": {
      "text/html": [
       "<div>\n",
       "<style scoped>\n",
       "    .dataframe tbody tr th:only-of-type {\n",
       "        vertical-align: middle;\n",
       "    }\n",
       "\n",
       "    .dataframe tbody tr th {\n",
       "        vertical-align: top;\n",
       "    }\n",
       "\n",
       "    .dataframe thead th {\n",
       "        text-align: right;\n",
       "    }\n",
       "</style>\n",
       "<table border=\"1\" class=\"dataframe\">\n",
       "  <thead>\n",
       "    <tr style=\"text-align: right;\">\n",
       "      <th></th>\n",
       "      <th>state</th>\n",
       "      <th>TZ</th>\n",
       "      <th>pop</th>\n",
       "    </tr>\n",
       "  </thead>\n",
       "  <tbody>\n",
       "    <tr>\n",
       "      <th>WA</th>\n",
       "      <td>Western Australia</td>\n",
       "      <td>GMT+8</td>\n",
       "      <td>1.0</td>\n",
       "    </tr>\n",
       "    <tr>\n",
       "      <th>SA</th>\n",
       "      <td>Southern Australia</td>\n",
       "      <td>GMT+9.30</td>\n",
       "      <td>1.0</td>\n",
       "    </tr>\n",
       "    <tr>\n",
       "      <th>VIC</th>\n",
       "      <td>Victoria</td>\n",
       "      <td>GMT+10</td>\n",
       "      <td>2.5</td>\n",
       "    </tr>\n",
       "    <tr>\n",
       "      <th>NSW</th>\n",
       "      <td>New South Wales</td>\n",
       "      <td>GMT+10</td>\n",
       "      <td>2.7</td>\n",
       "    </tr>\n",
       "    <tr>\n",
       "      <th>ACT</th>\n",
       "      <td>Australian Capital Territory</td>\n",
       "      <td>GMT+10</td>\n",
       "      <td>0.5</td>\n",
       "    </tr>\n",
       "    <tr>\n",
       "      <th>QLD</th>\n",
       "      <td>Queensland</td>\n",
       "      <td>GMT+10</td>\n",
       "      <td>1.5</td>\n",
       "    </tr>\n",
       "    <tr>\n",
       "      <th>NT</th>\n",
       "      <td>Northern Territory</td>\n",
       "      <td>GMT+9.30</td>\n",
       "      <td>0.4</td>\n",
       "    </tr>\n",
       "  </tbody>\n",
       "</table>\n",
       "</div>"
      ],
      "text/plain": [
       "                            state        TZ  pop\n",
       "WA              Western Australia     GMT+8  1.0\n",
       "SA             Southern Australia  GMT+9.30  1.0\n",
       "VIC                      Victoria    GMT+10  2.5\n",
       "NSW               New South Wales    GMT+10  2.7\n",
       "ACT  Australian Capital Territory    GMT+10  0.5\n",
       "QLD                    Queensland    GMT+10  1.5\n",
       "NT             Northern Territory  GMT+9.30  0.4"
      ]
     },
     "execution_count": 23,
     "metadata": {},
     "output_type": "execute_result"
    }
   ],
   "source": [
    "df_states_lbl"
   ]
  },
  {
   "cell_type": "code",
   "execution_count": 24,
   "metadata": {},
   "outputs": [
    {
     "data": {
      "text/plain": [
       "WA                Western Australia\n",
       "SA               Southern Australia\n",
       "VIC                        Victoria\n",
       "NSW                 New South Wales\n",
       "ACT    Australian Capital Territory\n",
       "QLD                      Queensland\n",
       "NT               Northern Territory\n",
       "Name: state, dtype: object"
      ]
     },
     "execution_count": 24,
     "metadata": {},
     "output_type": "execute_result"
    }
   ],
   "source": [
    "series_states = df_states_lbl['state']\n",
    "series_states"
   ]
  },
  {
   "cell_type": "code",
   "execution_count": 25,
   "metadata": {},
   "outputs": [
    {
     "data": {
      "text/plain": [
       "WA                Western Australia\n",
       "SA               Southern Australia\n",
       "VIC                        Victoria\n",
       "NSW                 New South Wales\n",
       "ACT    Australian Capital Territory\n",
       "QLD                      Queensland\n",
       "NT               Northern Territory\n",
       "Name: state, dtype: object"
      ]
     },
     "execution_count": 25,
     "metadata": {},
     "output_type": "execute_result"
    }
   ],
   "source": [
    "series_states = df_states_lbl.state\n",
    "series_states"
   ]
  },
  {
   "cell_type": "markdown",
   "metadata": {},
   "source": [
    "### Retrieving Rows from DataFrame\n",
    "\n",
    "<br>Individual rows can also be accessed from the DataFrame, by using the loc method and passing the index as a parameter to this method.\n"
   ]
  },
  {
   "cell_type": "code",
   "execution_count": 26,
   "metadata": {},
   "outputs": [
    {
     "data": {
      "text/html": [
       "<div>\n",
       "<style scoped>\n",
       "    .dataframe tbody tr th:only-of-type {\n",
       "        vertical-align: middle;\n",
       "    }\n",
       "\n",
       "    .dataframe tbody tr th {\n",
       "        vertical-align: top;\n",
       "    }\n",
       "\n",
       "    .dataframe thead th {\n",
       "        text-align: right;\n",
       "    }\n",
       "</style>\n",
       "<table border=\"1\" class=\"dataframe\">\n",
       "  <thead>\n",
       "    <tr style=\"text-align: right;\">\n",
       "      <th></th>\n",
       "      <th>state</th>\n",
       "      <th>TZ</th>\n",
       "      <th>pop</th>\n",
       "    </tr>\n",
       "  </thead>\n",
       "  <tbody>\n",
       "    <tr>\n",
       "      <th>WA</th>\n",
       "      <td>Western Australia</td>\n",
       "      <td>GMT+8</td>\n",
       "      <td>1.0</td>\n",
       "    </tr>\n",
       "    <tr>\n",
       "      <th>SA</th>\n",
       "      <td>Southern Australia</td>\n",
       "      <td>GMT+9.30</td>\n",
       "      <td>1.0</td>\n",
       "    </tr>\n",
       "    <tr>\n",
       "      <th>VIC</th>\n",
       "      <td>Victoria</td>\n",
       "      <td>GMT+10</td>\n",
       "      <td>2.5</td>\n",
       "    </tr>\n",
       "    <tr>\n",
       "      <th>NSW</th>\n",
       "      <td>New South Wales</td>\n",
       "      <td>GMT+10</td>\n",
       "      <td>2.7</td>\n",
       "    </tr>\n",
       "    <tr>\n",
       "      <th>ACT</th>\n",
       "      <td>Australian Capital Territory</td>\n",
       "      <td>GMT+10</td>\n",
       "      <td>0.5</td>\n",
       "    </tr>\n",
       "    <tr>\n",
       "      <th>QLD</th>\n",
       "      <td>Queensland</td>\n",
       "      <td>GMT+10</td>\n",
       "      <td>1.5</td>\n",
       "    </tr>\n",
       "    <tr>\n",
       "      <th>NT</th>\n",
       "      <td>Northern Territory</td>\n",
       "      <td>GMT+9.30</td>\n",
       "      <td>0.4</td>\n",
       "    </tr>\n",
       "  </tbody>\n",
       "</table>\n",
       "</div>"
      ],
      "text/plain": [
       "                            state        TZ  pop\n",
       "WA              Western Australia     GMT+8  1.0\n",
       "SA             Southern Australia  GMT+9.30  1.0\n",
       "VIC                      Victoria    GMT+10  2.5\n",
       "NSW               New South Wales    GMT+10  2.7\n",
       "ACT  Australian Capital Territory    GMT+10  0.5\n",
       "QLD                    Queensland    GMT+10  1.5\n",
       "NT             Northern Territory  GMT+9.30  0.4"
      ]
     },
     "execution_count": 26,
     "metadata": {},
     "output_type": "execute_result"
    }
   ],
   "source": [
    "df_states_lbl"
   ]
  },
  {
   "cell_type": "code",
   "execution_count": 27,
   "metadata": {},
   "outputs": [
    {
     "data": {
      "text/plain": [
       "state    Western Australia\n",
       "TZ                   GMT+8\n",
       "pop                      1\n",
       "Name: WA, dtype: object"
      ]
     },
     "execution_count": 27,
     "metadata": {},
     "output_type": "execute_result"
    }
   ],
   "source": [
    "wa_data = df_states_lbl.loc['WA']\n",
    "wa_data"
   ]
  },
  {
   "cell_type": "markdown",
   "metadata": {},
   "source": [
    "In case we don’t want to use the explicit label or row index, we can also use the default positional index for the rows in DataFrame. For such scenarios, there is a method .iloc(), and it can be used to access the particular row."
   ]
  },
  {
   "cell_type": "code",
   "execution_count": 28,
   "metadata": {},
   "outputs": [
    {
     "data": {
      "text/plain": [
       "state    Western Australia\n",
       "TZ                   GMT+8\n",
       "pop                      1\n",
       "Name: WA, dtype: object"
      ]
     },
     "execution_count": 28,
     "metadata": {},
     "output_type": "execute_result"
    }
   ],
   "source": [
    "wa_data1 = df_states_lbl.iloc[0]\n",
    "wa_data1"
   ]
  },
  {
   "cell_type": "code",
   "execution_count": 29,
   "metadata": {},
   "outputs": [
    {
     "data": {
      "text/plain": [
       "state    Southern Australia\n",
       "TZ                 GMT+9.30\n",
       "pop                       1\n",
       "Name: SA, dtype: object"
      ]
     },
     "execution_count": 29,
     "metadata": {},
     "output_type": "execute_result"
    }
   ],
   "source": [
    "wa_data1 = df_states_lbl.iloc[1]\n",
    "wa_data1"
   ]
  },
  {
   "cell_type": "markdown",
   "metadata": {},
   "source": [
    "### Changing data in a particular column\n",
    "\n",
    "The values in a particular column can be changed by assigning either the scalar value or a range of values (equal to number of rows in the DataFrame).\n",
    "\n",
    "The following code snippet shows this behaviour:\n"
   ]
  },
  {
   "cell_type": "code",
   "execution_count": 30,
   "metadata": {},
   "outputs": [
    {
     "data": {
      "text/html": [
       "<div>\n",
       "<style scoped>\n",
       "    .dataframe tbody tr th:only-of-type {\n",
       "        vertical-align: middle;\n",
       "    }\n",
       "\n",
       "    .dataframe tbody tr th {\n",
       "        vertical-align: top;\n",
       "    }\n",
       "\n",
       "    .dataframe thead th {\n",
       "        text-align: right;\n",
       "    }\n",
       "</style>\n",
       "<table border=\"1\" class=\"dataframe\">\n",
       "  <thead>\n",
       "    <tr style=\"text-align: right;\">\n",
       "      <th></th>\n",
       "      <th>state</th>\n",
       "      <th>TZ</th>\n",
       "      <th>pop</th>\n",
       "      <th>GDP</th>\n",
       "    </tr>\n",
       "  </thead>\n",
       "  <tbody>\n",
       "    <tr>\n",
       "      <th>WA</th>\n",
       "      <td>Western Australia</td>\n",
       "      <td>GMT+8</td>\n",
       "      <td>1.0</td>\n",
       "      <td>NaN</td>\n",
       "    </tr>\n",
       "    <tr>\n",
       "      <th>SA</th>\n",
       "      <td>Southern Australia</td>\n",
       "      <td>GMT+9.30</td>\n",
       "      <td>1.0</td>\n",
       "      <td>NaN</td>\n",
       "    </tr>\n",
       "    <tr>\n",
       "      <th>VIC</th>\n",
       "      <td>Victoria</td>\n",
       "      <td>GMT+10</td>\n",
       "      <td>2.5</td>\n",
       "      <td>NaN</td>\n",
       "    </tr>\n",
       "    <tr>\n",
       "      <th>NSW</th>\n",
       "      <td>New South Wales</td>\n",
       "      <td>GMT+10</td>\n",
       "      <td>2.7</td>\n",
       "      <td>NaN</td>\n",
       "    </tr>\n",
       "    <tr>\n",
       "      <th>ACT</th>\n",
       "      <td>Australian Capital Territory</td>\n",
       "      <td>GMT+10</td>\n",
       "      <td>0.5</td>\n",
       "      <td>NaN</td>\n",
       "    </tr>\n",
       "    <tr>\n",
       "      <th>QLD</th>\n",
       "      <td>Queensland</td>\n",
       "      <td>GMT+10</td>\n",
       "      <td>1.5</td>\n",
       "      <td>NaN</td>\n",
       "    </tr>\n",
       "    <tr>\n",
       "      <th>NT</th>\n",
       "      <td>Northern Territory</td>\n",
       "      <td>GMT+9.30</td>\n",
       "      <td>0.4</td>\n",
       "      <td>NaN</td>\n",
       "    </tr>\n",
       "  </tbody>\n",
       "</table>\n",
       "</div>"
      ],
      "text/plain": [
       "                            state        TZ  pop  GDP\n",
       "WA              Western Australia     GMT+8  1.0  NaN\n",
       "SA             Southern Australia  GMT+9.30  1.0  NaN\n",
       "VIC                      Victoria    GMT+10  2.5  NaN\n",
       "NSW               New South Wales    GMT+10  2.7  NaN\n",
       "ACT  Australian Capital Territory    GMT+10  0.5  NaN\n",
       "QLD                    Queensland    GMT+10  1.5  NaN\n",
       "NT             Northern Territory  GMT+9.30  0.4  NaN"
      ]
     },
     "execution_count": 30,
     "metadata": {},
     "output_type": "execute_result"
    }
   ],
   "source": [
    "data = {\n",
    "    'state':['Western Australia', 'Southern Australia', 'Victoria', 'New South Wales', 'Australian Capital Territory', 'Queensland', 'Northern Territory'],\n",
    "    'pop': [1,1,2.5,2.7,0.5,1.5,0.4],\n",
    "    'TZ': ['GMT+8', 'GMT+9.30','GMT+10', 'GMT+10', 'GMT+10', 'GMT+10', 'GMT+9.30']\n",
    "}\n",
    "\n",
    "row_labels = ['WA', 'SA','VIC','NSW','ACT','QLD','NT']\n",
    "\n",
    "df_states = DataFrame(data, columns=['state','TZ','pop','GDP'], index=row_labels)\n",
    "df_states"
   ]
  },
  {
   "cell_type": "code",
   "execution_count": 31,
   "metadata": {},
   "outputs": [
    {
     "data": {
      "text/html": [
       "<div>\n",
       "<style scoped>\n",
       "    .dataframe tbody tr th:only-of-type {\n",
       "        vertical-align: middle;\n",
       "    }\n",
       "\n",
       "    .dataframe tbody tr th {\n",
       "        vertical-align: top;\n",
       "    }\n",
       "\n",
       "    .dataframe thead th {\n",
       "        text-align: right;\n",
       "    }\n",
       "</style>\n",
       "<table border=\"1\" class=\"dataframe\">\n",
       "  <thead>\n",
       "    <tr style=\"text-align: right;\">\n",
       "      <th></th>\n",
       "      <th>state</th>\n",
       "      <th>TZ</th>\n",
       "      <th>pop</th>\n",
       "      <th>GDP</th>\n",
       "    </tr>\n",
       "  </thead>\n",
       "  <tbody>\n",
       "    <tr>\n",
       "      <th>WA</th>\n",
       "      <td>Western Australia</td>\n",
       "      <td>GMT+8</td>\n",
       "      <td>1.0</td>\n",
       "      <td>16</td>\n",
       "    </tr>\n",
       "    <tr>\n",
       "      <th>SA</th>\n",
       "      <td>Southern Australia</td>\n",
       "      <td>GMT+9.30</td>\n",
       "      <td>1.0</td>\n",
       "      <td>16</td>\n",
       "    </tr>\n",
       "    <tr>\n",
       "      <th>VIC</th>\n",
       "      <td>Victoria</td>\n",
       "      <td>GMT+10</td>\n",
       "      <td>2.5</td>\n",
       "      <td>16</td>\n",
       "    </tr>\n",
       "    <tr>\n",
       "      <th>NSW</th>\n",
       "      <td>New South Wales</td>\n",
       "      <td>GMT+10</td>\n",
       "      <td>2.7</td>\n",
       "      <td>16</td>\n",
       "    </tr>\n",
       "    <tr>\n",
       "      <th>ACT</th>\n",
       "      <td>Australian Capital Territory</td>\n",
       "      <td>GMT+10</td>\n",
       "      <td>0.5</td>\n",
       "      <td>16</td>\n",
       "    </tr>\n",
       "    <tr>\n",
       "      <th>QLD</th>\n",
       "      <td>Queensland</td>\n",
       "      <td>GMT+10</td>\n",
       "      <td>1.5</td>\n",
       "      <td>16</td>\n",
       "    </tr>\n",
       "    <tr>\n",
       "      <th>NT</th>\n",
       "      <td>Northern Territory</td>\n",
       "      <td>GMT+9.30</td>\n",
       "      <td>0.4</td>\n",
       "      <td>16</td>\n",
       "    </tr>\n",
       "  </tbody>\n",
       "</table>\n",
       "</div>"
      ],
      "text/plain": [
       "                            state        TZ  pop  GDP\n",
       "WA              Western Australia     GMT+8  1.0   16\n",
       "SA             Southern Australia  GMT+9.30  1.0   16\n",
       "VIC                      Victoria    GMT+10  2.5   16\n",
       "NSW               New South Wales    GMT+10  2.7   16\n",
       "ACT  Australian Capital Territory    GMT+10  0.5   16\n",
       "QLD                    Queensland    GMT+10  1.5   16\n",
       "NT             Northern Territory  GMT+9.30  0.4   16"
      ]
     },
     "execution_count": 31,
     "metadata": {},
     "output_type": "execute_result"
    }
   ],
   "source": [
    "#Access GDP column and assign a constant value\n",
    "df_states['GDP'] = 16\n",
    "df_states"
   ]
  },
  {
   "cell_type": "markdown",
   "metadata": {},
   "source": [
    "In the example below we are passing the list of values instead of some constant value:"
   ]
  },
  {
   "cell_type": "code",
   "execution_count": 32,
   "metadata": {},
   "outputs": [
    {
     "data": {
      "text/html": [
       "<div>\n",
       "<style scoped>\n",
       "    .dataframe tbody tr th:only-of-type {\n",
       "        vertical-align: middle;\n",
       "    }\n",
       "\n",
       "    .dataframe tbody tr th {\n",
       "        vertical-align: top;\n",
       "    }\n",
       "\n",
       "    .dataframe thead th {\n",
       "        text-align: right;\n",
       "    }\n",
       "</style>\n",
       "<table border=\"1\" class=\"dataframe\">\n",
       "  <thead>\n",
       "    <tr style=\"text-align: right;\">\n",
       "      <th></th>\n",
       "      <th>state</th>\n",
       "      <th>TZ</th>\n",
       "      <th>pop</th>\n",
       "      <th>GDP</th>\n",
       "    </tr>\n",
       "  </thead>\n",
       "  <tbody>\n",
       "    <tr>\n",
       "      <th>WA</th>\n",
       "      <td>Western Australia</td>\n",
       "      <td>GMT+8</td>\n",
       "      <td>1.0</td>\n",
       "      <td>16</td>\n",
       "    </tr>\n",
       "    <tr>\n",
       "      <th>SA</th>\n",
       "      <td>Southern Australia</td>\n",
       "      <td>GMT+9.30</td>\n",
       "      <td>1.0</td>\n",
       "      <td>16</td>\n",
       "    </tr>\n",
       "    <tr>\n",
       "      <th>VIC</th>\n",
       "      <td>Victoria</td>\n",
       "      <td>GMT+10</td>\n",
       "      <td>2.5</td>\n",
       "      <td>16</td>\n",
       "    </tr>\n",
       "    <tr>\n",
       "      <th>NSW</th>\n",
       "      <td>New South Wales</td>\n",
       "      <td>GMT+10</td>\n",
       "      <td>2.7</td>\n",
       "      <td>16</td>\n",
       "    </tr>\n",
       "    <tr>\n",
       "      <th>ACT</th>\n",
       "      <td>Australian Capital Territory</td>\n",
       "      <td>GMT+10</td>\n",
       "      <td>0.5</td>\n",
       "      <td>16</td>\n",
       "    </tr>\n",
       "    <tr>\n",
       "      <th>QLD</th>\n",
       "      <td>Queensland</td>\n",
       "      <td>GMT+10</td>\n",
       "      <td>1.5</td>\n",
       "      <td>16</td>\n",
       "    </tr>\n",
       "    <tr>\n",
       "      <th>NT</th>\n",
       "      <td>Northern Territory</td>\n",
       "      <td>GMT+9.30</td>\n",
       "      <td>0.4</td>\n",
       "      <td>16</td>\n",
       "    </tr>\n",
       "  </tbody>\n",
       "</table>\n",
       "</div>"
      ],
      "text/plain": [
       "                            state        TZ  pop  GDP\n",
       "WA              Western Australia     GMT+8  1.0   16\n",
       "SA             Southern Australia  GMT+9.30  1.0   16\n",
       "VIC                      Victoria    GMT+10  2.5   16\n",
       "NSW               New South Wales    GMT+10  2.7   16\n",
       "ACT  Australian Capital Territory    GMT+10  0.5   16\n",
       "QLD                    Queensland    GMT+10  1.5   16\n",
       "NT             Northern Territory  GMT+9.30  0.4   16"
      ]
     },
     "execution_count": 32,
     "metadata": {},
     "output_type": "execute_result"
    }
   ],
   "source": [
    "gdp_data = [11,8,20,22,15,18,8]\n",
    "df_states"
   ]
  },
  {
   "cell_type": "code",
   "execution_count": 33,
   "metadata": {},
   "outputs": [
    {
     "data": {
      "text/html": [
       "<div>\n",
       "<style scoped>\n",
       "    .dataframe tbody tr th:only-of-type {\n",
       "        vertical-align: middle;\n",
       "    }\n",
       "\n",
       "    .dataframe tbody tr th {\n",
       "        vertical-align: top;\n",
       "    }\n",
       "\n",
       "    .dataframe thead th {\n",
       "        text-align: right;\n",
       "    }\n",
       "</style>\n",
       "<table border=\"1\" class=\"dataframe\">\n",
       "  <thead>\n",
       "    <tr style=\"text-align: right;\">\n",
       "      <th></th>\n",
       "      <th>state</th>\n",
       "      <th>TZ</th>\n",
       "      <th>pop</th>\n",
       "      <th>GDP</th>\n",
       "    </tr>\n",
       "  </thead>\n",
       "  <tbody>\n",
       "    <tr>\n",
       "      <th>WA</th>\n",
       "      <td>Western Australia</td>\n",
       "      <td>GMT+8</td>\n",
       "      <td>1.0</td>\n",
       "      <td>11</td>\n",
       "    </tr>\n",
       "    <tr>\n",
       "      <th>SA</th>\n",
       "      <td>Southern Australia</td>\n",
       "      <td>GMT+9.30</td>\n",
       "      <td>1.0</td>\n",
       "      <td>8</td>\n",
       "    </tr>\n",
       "    <tr>\n",
       "      <th>VIC</th>\n",
       "      <td>Victoria</td>\n",
       "      <td>GMT+10</td>\n",
       "      <td>2.5</td>\n",
       "      <td>20</td>\n",
       "    </tr>\n",
       "    <tr>\n",
       "      <th>NSW</th>\n",
       "      <td>New South Wales</td>\n",
       "      <td>GMT+10</td>\n",
       "      <td>2.7</td>\n",
       "      <td>22</td>\n",
       "    </tr>\n",
       "    <tr>\n",
       "      <th>ACT</th>\n",
       "      <td>Australian Capital Territory</td>\n",
       "      <td>GMT+10</td>\n",
       "      <td>0.5</td>\n",
       "      <td>15</td>\n",
       "    </tr>\n",
       "    <tr>\n",
       "      <th>QLD</th>\n",
       "      <td>Queensland</td>\n",
       "      <td>GMT+10</td>\n",
       "      <td>1.5</td>\n",
       "      <td>18</td>\n",
       "    </tr>\n",
       "    <tr>\n",
       "      <th>NT</th>\n",
       "      <td>Northern Territory</td>\n",
       "      <td>GMT+9.30</td>\n",
       "      <td>0.4</td>\n",
       "      <td>8</td>\n",
       "    </tr>\n",
       "  </tbody>\n",
       "</table>\n",
       "</div>"
      ],
      "text/plain": [
       "                            state        TZ  pop  GDP\n",
       "WA              Western Australia     GMT+8  1.0   11\n",
       "SA             Southern Australia  GMT+9.30  1.0    8\n",
       "VIC                      Victoria    GMT+10  2.5   20\n",
       "NSW               New South Wales    GMT+10  2.7   22\n",
       "ACT  Australian Capital Territory    GMT+10  0.5   15\n",
       "QLD                    Queensland    GMT+10  1.5   18\n",
       "NT             Northern Territory  GMT+9.30  0.4    8"
      ]
     },
     "execution_count": 33,
     "metadata": {},
     "output_type": "execute_result"
    }
   ],
   "source": [
    "df_states['GDP'] = gdp_data\n",
    "df_states"
   ]
  },
  {
   "cell_type": "markdown",
   "metadata": {},
   "source": [
    "### Adding a column to DataFrame\n",
    "\n",
    "Using the same convention, if we specify a column name that doesn’t exist in DataFrame and pass the list of values or a scalar, it results in the addition of a new column to the DataFrame.\n",
    "\n",
    "See the below example for a demonstration:\n",
    "\n"
   ]
  },
  {
   "cell_type": "code",
   "execution_count": 34,
   "metadata": {},
   "outputs": [
    {
     "data": {
      "text/html": [
       "<div>\n",
       "<style scoped>\n",
       "    .dataframe tbody tr th:only-of-type {\n",
       "        vertical-align: middle;\n",
       "    }\n",
       "\n",
       "    .dataframe tbody tr th {\n",
       "        vertical-align: top;\n",
       "    }\n",
       "\n",
       "    .dataframe thead th {\n",
       "        text-align: right;\n",
       "    }\n",
       "</style>\n",
       "<table border=\"1\" class=\"dataframe\">\n",
       "  <thead>\n",
       "    <tr style=\"text-align: right;\">\n",
       "      <th></th>\n",
       "      <th>state</th>\n",
       "      <th>TZ</th>\n",
       "      <th>pop</th>\n",
       "      <th>GDP</th>\n",
       "    </tr>\n",
       "  </thead>\n",
       "  <tbody>\n",
       "    <tr>\n",
       "      <th>WA</th>\n",
       "      <td>Western Australia</td>\n",
       "      <td>GMT+8</td>\n",
       "      <td>1.0</td>\n",
       "      <td>11</td>\n",
       "    </tr>\n",
       "    <tr>\n",
       "      <th>SA</th>\n",
       "      <td>Southern Australia</td>\n",
       "      <td>GMT+9.30</td>\n",
       "      <td>1.0</td>\n",
       "      <td>8</td>\n",
       "    </tr>\n",
       "    <tr>\n",
       "      <th>VIC</th>\n",
       "      <td>Victoria</td>\n",
       "      <td>GMT+10</td>\n",
       "      <td>2.5</td>\n",
       "      <td>20</td>\n",
       "    </tr>\n",
       "    <tr>\n",
       "      <th>NSW</th>\n",
       "      <td>New South Wales</td>\n",
       "      <td>GMT+10</td>\n",
       "      <td>2.7</td>\n",
       "      <td>22</td>\n",
       "    </tr>\n",
       "    <tr>\n",
       "      <th>ACT</th>\n",
       "      <td>Australian Capital Territory</td>\n",
       "      <td>GMT+10</td>\n",
       "      <td>0.5</td>\n",
       "      <td>15</td>\n",
       "    </tr>\n",
       "    <tr>\n",
       "      <th>QLD</th>\n",
       "      <td>Queensland</td>\n",
       "      <td>GMT+10</td>\n",
       "      <td>1.5</td>\n",
       "      <td>18</td>\n",
       "    </tr>\n",
       "    <tr>\n",
       "      <th>NT</th>\n",
       "      <td>Northern Territory</td>\n",
       "      <td>GMT+9.30</td>\n",
       "      <td>0.4</td>\n",
       "      <td>8</td>\n",
       "    </tr>\n",
       "  </tbody>\n",
       "</table>\n",
       "</div>"
      ],
      "text/plain": [
       "                            state        TZ  pop  GDP\n",
       "WA              Western Australia     GMT+8  1.0   11\n",
       "SA             Southern Australia  GMT+9.30  1.0    8\n",
       "VIC                      Victoria    GMT+10  2.5   20\n",
       "NSW               New South Wales    GMT+10  2.7   22\n",
       "ACT  Australian Capital Territory    GMT+10  0.5   15\n",
       "QLD                    Queensland    GMT+10  1.5   18\n",
       "NT             Northern Territory  GMT+9.30  0.4    8"
      ]
     },
     "execution_count": 34,
     "metadata": {},
     "output_type": "execute_result"
    }
   ],
   "source": [
    "df_states"
   ]
  },
  {
   "cell_type": "code",
   "execution_count": 35,
   "metadata": {},
   "outputs": [
    {
     "data": {
      "text/html": [
       "<div>\n",
       "<style scoped>\n",
       "    .dataframe tbody tr th:only-of-type {\n",
       "        vertical-align: middle;\n",
       "    }\n",
       "\n",
       "    .dataframe tbody tr th {\n",
       "        vertical-align: top;\n",
       "    }\n",
       "\n",
       "    .dataframe thead th {\n",
       "        text-align: right;\n",
       "    }\n",
       "</style>\n",
       "<table border=\"1\" class=\"dataframe\">\n",
       "  <thead>\n",
       "    <tr style=\"text-align: right;\">\n",
       "      <th></th>\n",
       "      <th>state</th>\n",
       "      <th>TZ</th>\n",
       "      <th>pop</th>\n",
       "      <th>GDP</th>\n",
       "      <th>area</th>\n",
       "    </tr>\n",
       "  </thead>\n",
       "  <tbody>\n",
       "    <tr>\n",
       "      <th>WA</th>\n",
       "      <td>Western Australia</td>\n",
       "      <td>GMT+8</td>\n",
       "      <td>1.0</td>\n",
       "      <td>11</td>\n",
       "      <td>TBD</td>\n",
       "    </tr>\n",
       "    <tr>\n",
       "      <th>SA</th>\n",
       "      <td>Southern Australia</td>\n",
       "      <td>GMT+9.30</td>\n",
       "      <td>1.0</td>\n",
       "      <td>8</td>\n",
       "      <td>TBD</td>\n",
       "    </tr>\n",
       "    <tr>\n",
       "      <th>VIC</th>\n",
       "      <td>Victoria</td>\n",
       "      <td>GMT+10</td>\n",
       "      <td>2.5</td>\n",
       "      <td>20</td>\n",
       "      <td>TBD</td>\n",
       "    </tr>\n",
       "    <tr>\n",
       "      <th>NSW</th>\n",
       "      <td>New South Wales</td>\n",
       "      <td>GMT+10</td>\n",
       "      <td>2.7</td>\n",
       "      <td>22</td>\n",
       "      <td>TBD</td>\n",
       "    </tr>\n",
       "    <tr>\n",
       "      <th>ACT</th>\n",
       "      <td>Australian Capital Territory</td>\n",
       "      <td>GMT+10</td>\n",
       "      <td>0.5</td>\n",
       "      <td>15</td>\n",
       "      <td>TBD</td>\n",
       "    </tr>\n",
       "    <tr>\n",
       "      <th>QLD</th>\n",
       "      <td>Queensland</td>\n",
       "      <td>GMT+10</td>\n",
       "      <td>1.5</td>\n",
       "      <td>18</td>\n",
       "      <td>TBD</td>\n",
       "    </tr>\n",
       "    <tr>\n",
       "      <th>NT</th>\n",
       "      <td>Northern Territory</td>\n",
       "      <td>GMT+9.30</td>\n",
       "      <td>0.4</td>\n",
       "      <td>8</td>\n",
       "      <td>TBD</td>\n",
       "    </tr>\n",
       "  </tbody>\n",
       "</table>\n",
       "</div>"
      ],
      "text/plain": [
       "                            state        TZ  pop  GDP area\n",
       "WA              Western Australia     GMT+8  1.0   11  TBD\n",
       "SA             Southern Australia  GMT+9.30  1.0    8  TBD\n",
       "VIC                      Victoria    GMT+10  2.5   20  TBD\n",
       "NSW               New South Wales    GMT+10  2.7   22  TBD\n",
       "ACT  Australian Capital Territory    GMT+10  0.5   15  TBD\n",
       "QLD                    Queensland    GMT+10  1.5   18  TBD\n",
       "NT             Northern Territory  GMT+9.30  0.4    8  TBD"
      ]
     },
     "execution_count": 35,
     "metadata": {},
     "output_type": "execute_result"
    }
   ],
   "source": [
    "df_states['area'] = \"TBD\"\n",
    "df_states"
   ]
  },
  {
   "cell_type": "markdown",
   "metadata": {},
   "source": [
    "So far, we have seen some of the basic operations related to the Series and DataFrame. In the subsequent sections, let’s explore some of the essential functionalities for Pandas, as these will form the foundation of the data wrangling activities for any data analytics projects that you would be involved in."
   ]
  },
  {
   "cell_type": "markdown",
   "metadata": {},
   "source": [
    "## Pandas: Essential operations\n",
    "\n",
    "Similar to NumPy, Pandas also has some essential operations that you would need to explore interacting with the data stored in Series and DataFrame.\n",
    "\n",
    "### Reindexing\n",
    "\n",
    "An important operation that we perform on the Pandas data structure is reindexing, which means to create a new object and rearrange the data in the Pandas data structure, conforming to the new index. \n",
    "\n",
    "While doing so, if data is not present for some index in the original data, missing values are added, corresponding to those indexes.\n",
    "\n"
   ]
  },
  {
   "cell_type": "code",
   "execution_count": 36,
   "metadata": {},
   "outputs": [
    {
     "data": {
      "text/plain": [
       "a   -0.100533\n",
       "b   -0.117801\n",
       "c   -2.179150\n",
       "d    0.029032\n",
       "e   -0.038929\n",
       "f   -0.034180\n",
       "g    1.169038\n",
       "h   -2.777480\n",
       "i    0.477818\n",
       "j   -1.073596\n",
       "dtype: float64"
      ]
     },
     "execution_count": 36,
     "metadata": {},
     "output_type": "execute_result"
    }
   ],
   "source": [
    "a = Series(np.random.randn(10), index=['a','b','c','d','e','f','g','h','i','j'])\n",
    "a"
   ]
  },
  {
   "cell_type": "code",
   "execution_count": 37,
   "metadata": {},
   "outputs": [],
   "source": [
    "new_index = ['a','A1','b','B1','c','C1','d','e','f','g','h','i','j']"
   ]
  },
  {
   "cell_type": "code",
   "execution_count": 38,
   "metadata": {},
   "outputs": [
    {
     "data": {
      "text/plain": [
       "a    -0.100533\n",
       "A1         NaN\n",
       "b    -0.117801\n",
       "B1         NaN\n",
       "c    -2.179150\n",
       "C1         NaN\n",
       "d     0.029032\n",
       "e    -0.038929\n",
       "f    -0.034180\n",
       "g     1.169038\n",
       "h    -2.777480\n",
       "i     0.477818\n",
       "j    -1.073596\n",
       "dtype: float64"
      ]
     },
     "execution_count": 38,
     "metadata": {},
     "output_type": "execute_result"
    }
   ],
   "source": [
    "a_new = a.reindex(new_index)\n",
    "a_new"
   ]
  },
  {
   "cell_type": "markdown",
   "metadata": {},
   "source": [
    "Imagine a situation where you are processing employee records. However, many of the employees have supplied incomplete information. You need a way to handle these cases and highlight the gaps to follow up with them. Perhaps you could insert ‘Unknown’ into all the empty fields, to make the missing values easy to identify.\n",
    "\n",
    "There are various ways the missing values can be handled during reindexing. \n",
    "\n",
    "We can:\n",
    "- either specify a particular value to be filled, and we do this by adding a parameter <code>fill_value = value to be filled</code>, to the reindex method\n",
    "\n",
    "- or we can specify the pre-defined options by passing a parameter <code>method = pre defined method values</code>. This is especially useful in case we need to do operations like interpolation, forward fill, backward fill, and so on for time series data analysis.\n",
    "\n",
    "These two methods are demonstrated by the code snippet below:\n",
    "\n",
    "These two methods are demonstrated by the code snippet below:\n",
    "\n",
    "__Specify fill_value()__"
   ]
  },
  {
   "cell_type": "code",
   "execution_count": 84,
   "metadata": {},
   "outputs": [
    {
     "data": {
      "text/plain": [
       "a     0.0\n",
       "A1    0.0\n",
       "b     0.0\n",
       "B1    0.0\n",
       "c     0.0\n",
       "C1    0.0\n",
       "d     0.0\n",
       "e     0.0\n",
       "f     0.0\n",
       "g     0.0\n",
       "h     0.0\n",
       "i     0.0\n",
       "j     0.0\n",
       "dtype: float64"
      ]
     },
     "execution_count": 84,
     "metadata": {},
     "output_type": "execute_result"
    }
   ],
   "source": [
    "a_fillvalue = a.reindex(new_index, fill_value=0)\n",
    "a_fillvalue"
   ]
  },
  {
   "cell_type": "markdown",
   "metadata": {},
   "source": [
    "__Specifying 'method' parameter__\n"
   ]
  },
  {
   "cell_type": "code",
   "execution_count": 40,
   "metadata": {},
   "outputs": [
    {
     "data": {
      "text/plain": [
       "0    -2.153354\n",
       "2     0.329830\n",
       "4     0.558474\n",
       "6    -0.098596\n",
       "8     0.758105\n",
       "10    0.395707\n",
       "12   -0.328893\n",
       "14   -0.818277\n",
       "16    0.531446\n",
       "18   -1.540306\n",
       "dtype: float64"
      ]
     },
     "execution_count": 40,
     "metadata": {},
     "output_type": "execute_result"
    }
   ],
   "source": [
    "a = Series(np.random.randn(10), index=[0,2,4,6,8,10,12,14,16,18])\n",
    "a"
   ]
  },
  {
   "cell_type": "code",
   "execution_count": 41,
   "metadata": {},
   "outputs": [
    {
     "data": {
      "text/plain": [
       "0    -2.153354\n",
       "1          NaN\n",
       "2     0.329830\n",
       "3          NaN\n",
       "4     0.558474\n",
       "5          NaN\n",
       "6    -0.098596\n",
       "7          NaN\n",
       "8     0.758105\n",
       "9          NaN\n",
       "10    0.395707\n",
       "11         NaN\n",
       "12   -0.328893\n",
       "13         NaN\n",
       "14   -0.818277\n",
       "15         NaN\n",
       "16    0.531446\n",
       "17         NaN\n",
       "18   -1.540306\n",
       "19         NaN\n",
       "dtype: float64"
      ]
     },
     "execution_count": 41,
     "metadata": {},
     "output_type": "execute_result"
    }
   ],
   "source": [
    "## Reindex so that indexes 1,3,5... are introduced in the series\n",
    "a_new = a.reindex(range(20))\n",
    "a_new"
   ]
  },
  {
   "cell_type": "code",
   "execution_count": 42,
   "metadata": {},
   "outputs": [
    {
     "data": {
      "text/plain": [
       "0    -2.153354\n",
       "1    -2.153354\n",
       "2     0.329830\n",
       "3     0.329830\n",
       "4     0.558474\n",
       "5     0.558474\n",
       "6    -0.098596\n",
       "7    -0.098596\n",
       "8     0.758105\n",
       "9     0.758105\n",
       "10    0.395707\n",
       "11    0.395707\n",
       "12   -0.328893\n",
       "13   -0.328893\n",
       "14   -0.818277\n",
       "15   -0.818277\n",
       "16    0.531446\n",
       "17    0.531446\n",
       "18   -1.540306\n",
       "19   -1.540306\n",
       "dtype: float64"
      ]
     },
     "execution_count": 42,
     "metadata": {},
     "output_type": "execute_result"
    }
   ],
   "source": [
    "## Perform similar reindex but with forward fill method specific for null values\n",
    "a_ffill = a.reindex(range(20), method='ffill')\n",
    "a_ffill"
   ]
  },
  {
   "cell_type": "markdown",
   "metadata": {},
   "source": [
    "Observe index 1, 3, and 5: values have been populated from the previous index.\n",
    "\n",
    "For the complete list of parameters of reindexing method, refer to the documentation available at following links:\n",
    ":<br>\n",
    "Read: https://pandas.pydata.org/pandas-docs/stable/reference/api/pandas.Series.reindex.html\n",
    "Read: https://pandas.pydata.org/pandas-docs/stable/reference/api/pandas.DataFrame.reindex.html\n"
   ]
  },
  {
   "cell_type": "markdown",
   "metadata": {},
   "source": [
    "### Dropping entries from axis\n",
    "\n",
    "At many times, we need to delete the data from the Pandas Series and DataFrame. You can do this using the drop method, which is available to both Series and DataFrame. This method accepts the index, or the list of index, to be dropped from the Series and DataFrame.\n",
    "\n",
    "This method creates a new object with only the required values. Note that this operation doesn’t perform inline-drop (ie, the original Pandas Series or DataFrame will be preserved and still available after the drop operations). In practical terms, the method creates a selective copy of the data. \n",
    "\n",
    "\n",
    "__Drop single index__"
   ]
  },
  {
   "cell_type": "code",
   "execution_count": 43,
   "metadata": {},
   "outputs": [
    {
     "data": {
      "text/plain": [
       "a    0\n",
       "b    1\n",
       "c    2\n",
       "d    3\n",
       "e    4\n",
       "f    5\n",
       "g    6\n",
       "h    7\n",
       "i    8\n",
       "j    9\n",
       "dtype: int64"
      ]
     },
     "execution_count": 43,
     "metadata": {},
     "output_type": "execute_result"
    }
   ],
   "source": [
    "b = Series(np.arange(10), index=['a','b','c','d','e','f','g','h','i','j'])\n",
    "b"
   ]
  },
  {
   "cell_type": "code",
   "execution_count": 44,
   "metadata": {},
   "outputs": [
    {
     "data": {
      "text/plain": [
       "a    0\n",
       "c    2\n",
       "d    3\n",
       "e    4\n",
       "f    5\n",
       "g    6\n",
       "h    7\n",
       "i    8\n",
       "j    9\n",
       "dtype: int64"
      ]
     },
     "execution_count": 44,
     "metadata": {},
     "output_type": "execute_result"
    }
   ],
   "source": [
    "#Dropping index b\n",
    "new_series = b.drop('b')\n",
    "new_series"
   ]
  },
  {
   "cell_type": "markdown",
   "metadata": {},
   "source": [
    "__Drop multiple index__<br>"
   ]
  },
  {
   "cell_type": "code",
   "execution_count": 45,
   "metadata": {},
   "outputs": [
    {
     "data": {
      "text/plain": [
       "b    1\n",
       "c    2\n",
       "d    3\n",
       "e    4\n",
       "f    5\n",
       "h    7\n",
       "i    8\n",
       "dtype: int64"
      ]
     },
     "execution_count": 45,
     "metadata": {},
     "output_type": "execute_result"
    }
   ],
   "source": [
    "# Dropping multiple index.\n",
    "# for e.g., a, g, j\n",
    "new_series_1 = b.drop(['a','g','j'])\n",
    "new_series_1"
   ]
  },
  {
   "cell_type": "markdown",
   "metadata": {},
   "source": [
    "In the case of DataFrame, we specify the index for both axes: row labels (by using index parameter), and column names (by using columns parameter). \n",
    "\n",
    "The following code snippets demonstrates this behaviour:\n",
    "\n",
    "<br>__Removing a row from DataFrame__<br>Following code snippets demonstrates this behaviour:"
   ]
  },
  {
   "cell_type": "code",
   "execution_count": 46,
   "metadata": {},
   "outputs": [
    {
     "data": {
      "text/html": [
       "<div>\n",
       "<style scoped>\n",
       "    .dataframe tbody tr th:only-of-type {\n",
       "        vertical-align: middle;\n",
       "    }\n",
       "\n",
       "    .dataframe tbody tr th {\n",
       "        vertical-align: top;\n",
       "    }\n",
       "\n",
       "    .dataframe thead th {\n",
       "        text-align: right;\n",
       "    }\n",
       "</style>\n",
       "<table border=\"1\" class=\"dataframe\">\n",
       "  <thead>\n",
       "    <tr style=\"text-align: right;\">\n",
       "      <th></th>\n",
       "      <th>state</th>\n",
       "      <th>TZ</th>\n",
       "      <th>pop</th>\n",
       "      <th>GDP</th>\n",
       "      <th>area</th>\n",
       "    </tr>\n",
       "  </thead>\n",
       "  <tbody>\n",
       "    <tr>\n",
       "      <th>WA</th>\n",
       "      <td>Western Australia</td>\n",
       "      <td>GMT+8</td>\n",
       "      <td>1.0</td>\n",
       "      <td>11</td>\n",
       "      <td>TBD</td>\n",
       "    </tr>\n",
       "    <tr>\n",
       "      <th>SA</th>\n",
       "      <td>Southern Australia</td>\n",
       "      <td>GMT+9.30</td>\n",
       "      <td>1.0</td>\n",
       "      <td>8</td>\n",
       "      <td>TBD</td>\n",
       "    </tr>\n",
       "    <tr>\n",
       "      <th>VIC</th>\n",
       "      <td>Victoria</td>\n",
       "      <td>GMT+10</td>\n",
       "      <td>2.5</td>\n",
       "      <td>20</td>\n",
       "      <td>TBD</td>\n",
       "    </tr>\n",
       "    <tr>\n",
       "      <th>NSW</th>\n",
       "      <td>New South Wales</td>\n",
       "      <td>GMT+10</td>\n",
       "      <td>2.7</td>\n",
       "      <td>22</td>\n",
       "      <td>TBD</td>\n",
       "    </tr>\n",
       "    <tr>\n",
       "      <th>ACT</th>\n",
       "      <td>Australian Capital Territory</td>\n",
       "      <td>GMT+10</td>\n",
       "      <td>0.5</td>\n",
       "      <td>15</td>\n",
       "      <td>TBD</td>\n",
       "    </tr>\n",
       "    <tr>\n",
       "      <th>QLD</th>\n",
       "      <td>Queensland</td>\n",
       "      <td>GMT+10</td>\n",
       "      <td>1.5</td>\n",
       "      <td>18</td>\n",
       "      <td>TBD</td>\n",
       "    </tr>\n",
       "    <tr>\n",
       "      <th>NT</th>\n",
       "      <td>Northern Territory</td>\n",
       "      <td>GMT+9.30</td>\n",
       "      <td>0.4</td>\n",
       "      <td>8</td>\n",
       "      <td>TBD</td>\n",
       "    </tr>\n",
       "  </tbody>\n",
       "</table>\n",
       "</div>"
      ],
      "text/plain": [
       "                            state        TZ  pop  GDP area\n",
       "WA              Western Australia     GMT+8  1.0   11  TBD\n",
       "SA             Southern Australia  GMT+9.30  1.0    8  TBD\n",
       "VIC                      Victoria    GMT+10  2.5   20  TBD\n",
       "NSW               New South Wales    GMT+10  2.7   22  TBD\n",
       "ACT  Australian Capital Territory    GMT+10  0.5   15  TBD\n",
       "QLD                    Queensland    GMT+10  1.5   18  TBD\n",
       "NT             Northern Territory  GMT+9.30  0.4    8  TBD"
      ]
     },
     "execution_count": 46,
     "metadata": {},
     "output_type": "execute_result"
    }
   ],
   "source": [
    "#Check DataFrame\n",
    "df_states"
   ]
  },
  {
   "cell_type": "code",
   "execution_count": 47,
   "metadata": {},
   "outputs": [
    {
     "data": {
      "text/html": [
       "<div>\n",
       "<style scoped>\n",
       "    .dataframe tbody tr th:only-of-type {\n",
       "        vertical-align: middle;\n",
       "    }\n",
       "\n",
       "    .dataframe tbody tr th {\n",
       "        vertical-align: top;\n",
       "    }\n",
       "\n",
       "    .dataframe thead th {\n",
       "        text-align: right;\n",
       "    }\n",
       "</style>\n",
       "<table border=\"1\" class=\"dataframe\">\n",
       "  <thead>\n",
       "    <tr style=\"text-align: right;\">\n",
       "      <th></th>\n",
       "      <th>state</th>\n",
       "      <th>TZ</th>\n",
       "      <th>pop</th>\n",
       "      <th>GDP</th>\n",
       "      <th>area</th>\n",
       "    </tr>\n",
       "  </thead>\n",
       "  <tbody>\n",
       "    <tr>\n",
       "      <th>WA</th>\n",
       "      <td>Western Australia</td>\n",
       "      <td>GMT+8</td>\n",
       "      <td>1.0</td>\n",
       "      <td>11</td>\n",
       "      <td>TBD</td>\n",
       "    </tr>\n",
       "    <tr>\n",
       "      <th>SA</th>\n",
       "      <td>Southern Australia</td>\n",
       "      <td>GMT+9.30</td>\n",
       "      <td>1.0</td>\n",
       "      <td>8</td>\n",
       "      <td>TBD</td>\n",
       "    </tr>\n",
       "    <tr>\n",
       "      <th>VIC</th>\n",
       "      <td>Victoria</td>\n",
       "      <td>GMT+10</td>\n",
       "      <td>2.5</td>\n",
       "      <td>20</td>\n",
       "      <td>TBD</td>\n",
       "    </tr>\n",
       "    <tr>\n",
       "      <th>NSW</th>\n",
       "      <td>New South Wales</td>\n",
       "      <td>GMT+10</td>\n",
       "      <td>2.7</td>\n",
       "      <td>22</td>\n",
       "      <td>TBD</td>\n",
       "    </tr>\n",
       "    <tr>\n",
       "      <th>ACT</th>\n",
       "      <td>Australian Capital Territory</td>\n",
       "      <td>GMT+10</td>\n",
       "      <td>0.5</td>\n",
       "      <td>15</td>\n",
       "      <td>TBD</td>\n",
       "    </tr>\n",
       "    <tr>\n",
       "      <th>QLD</th>\n",
       "      <td>Queensland</td>\n",
       "      <td>GMT+10</td>\n",
       "      <td>1.5</td>\n",
       "      <td>18</td>\n",
       "      <td>TBD</td>\n",
       "    </tr>\n",
       "  </tbody>\n",
       "</table>\n",
       "</div>"
      ],
      "text/plain": [
       "                            state        TZ  pop  GDP area\n",
       "WA              Western Australia     GMT+8  1.0   11  TBD\n",
       "SA             Southern Australia  GMT+9.30  1.0    8  TBD\n",
       "VIC                      Victoria    GMT+10  2.5   20  TBD\n",
       "NSW               New South Wales    GMT+10  2.7   22  TBD\n",
       "ACT  Australian Capital Territory    GMT+10  0.5   15  TBD\n",
       "QLD                    Queensland    GMT+10  1.5   18  TBD"
      ]
     },
     "execution_count": 47,
     "metadata": {},
     "output_type": "execute_result"
    }
   ],
   "source": [
    "# Let's drop NT row, and check the newly created DataFrame\n",
    "df_states_noNT = df_states.drop('NT')\n",
    "df_states_noNT"
   ]
  },
  {
   "cell_type": "code",
   "execution_count": 48,
   "metadata": {},
   "outputs": [
    {
     "data": {
      "text/html": [
       "<div>\n",
       "<style scoped>\n",
       "    .dataframe tbody tr th:only-of-type {\n",
       "        vertical-align: middle;\n",
       "    }\n",
       "\n",
       "    .dataframe tbody tr th {\n",
       "        vertical-align: top;\n",
       "    }\n",
       "\n",
       "    .dataframe thead th {\n",
       "        text-align: right;\n",
       "    }\n",
       "</style>\n",
       "<table border=\"1\" class=\"dataframe\">\n",
       "  <thead>\n",
       "    <tr style=\"text-align: right;\">\n",
       "      <th></th>\n",
       "      <th>state</th>\n",
       "      <th>TZ</th>\n",
       "      <th>pop</th>\n",
       "      <th>GDP</th>\n",
       "      <th>area</th>\n",
       "    </tr>\n",
       "  </thead>\n",
       "  <tbody>\n",
       "    <tr>\n",
       "      <th>WA</th>\n",
       "      <td>Western Australia</td>\n",
       "      <td>GMT+8</td>\n",
       "      <td>1.0</td>\n",
       "      <td>11</td>\n",
       "      <td>TBD</td>\n",
       "    </tr>\n",
       "    <tr>\n",
       "      <th>SA</th>\n",
       "      <td>Southern Australia</td>\n",
       "      <td>GMT+9.30</td>\n",
       "      <td>1.0</td>\n",
       "      <td>8</td>\n",
       "      <td>TBD</td>\n",
       "    </tr>\n",
       "    <tr>\n",
       "      <th>VIC</th>\n",
       "      <td>Victoria</td>\n",
       "      <td>GMT+10</td>\n",
       "      <td>2.5</td>\n",
       "      <td>20</td>\n",
       "      <td>TBD</td>\n",
       "    </tr>\n",
       "    <tr>\n",
       "      <th>NSW</th>\n",
       "      <td>New South Wales</td>\n",
       "      <td>GMT+10</td>\n",
       "      <td>2.7</td>\n",
       "      <td>22</td>\n",
       "      <td>TBD</td>\n",
       "    </tr>\n",
       "    <tr>\n",
       "      <th>ACT</th>\n",
       "      <td>Australian Capital Territory</td>\n",
       "      <td>GMT+10</td>\n",
       "      <td>0.5</td>\n",
       "      <td>15</td>\n",
       "      <td>TBD</td>\n",
       "    </tr>\n",
       "    <tr>\n",
       "      <th>QLD</th>\n",
       "      <td>Queensland</td>\n",
       "      <td>GMT+10</td>\n",
       "      <td>1.5</td>\n",
       "      <td>18</td>\n",
       "      <td>TBD</td>\n",
       "    </tr>\n",
       "    <tr>\n",
       "      <th>NT</th>\n",
       "      <td>Northern Territory</td>\n",
       "      <td>GMT+9.30</td>\n",
       "      <td>0.4</td>\n",
       "      <td>8</td>\n",
       "      <td>TBD</td>\n",
       "    </tr>\n",
       "  </tbody>\n",
       "</table>\n",
       "</div>"
      ],
      "text/plain": [
       "                            state        TZ  pop  GDP area\n",
       "WA              Western Australia     GMT+8  1.0   11  TBD\n",
       "SA             Southern Australia  GMT+9.30  1.0    8  TBD\n",
       "VIC                      Victoria    GMT+10  2.5   20  TBD\n",
       "NSW               New South Wales    GMT+10  2.7   22  TBD\n",
       "ACT  Australian Capital Territory    GMT+10  0.5   15  TBD\n",
       "QLD                    Queensland    GMT+10  1.5   18  TBD\n",
       "NT             Northern Territory  GMT+9.30  0.4    8  TBD"
      ]
     },
     "execution_count": 48,
     "metadata": {},
     "output_type": "execute_result"
    }
   ],
   "source": [
    "#Check Original DataFrame, the row still exist in the original DataFrame\n",
    "df_states"
   ]
  },
  {
   "cell_type": "markdown",
   "metadata": {},
   "source": [
    "__Removing multiple columns from DataFrame, by passing a sequence of column index and axis = 1__\n",
    "<br> See code example below for how to drop columns for Pandas DataFrame"
   ]
  },
  {
   "cell_type": "code",
   "execution_count": 49,
   "metadata": {},
   "outputs": [
    {
     "data": {
      "text/html": [
       "<div>\n",
       "<style scoped>\n",
       "    .dataframe tbody tr th:only-of-type {\n",
       "        vertical-align: middle;\n",
       "    }\n",
       "\n",
       "    .dataframe tbody tr th {\n",
       "        vertical-align: top;\n",
       "    }\n",
       "\n",
       "    .dataframe thead th {\n",
       "        text-align: right;\n",
       "    }\n",
       "</style>\n",
       "<table border=\"1\" class=\"dataframe\">\n",
       "  <thead>\n",
       "    <tr style=\"text-align: right;\">\n",
       "      <th></th>\n",
       "      <th>state</th>\n",
       "      <th>TZ</th>\n",
       "      <th>pop</th>\n",
       "      <th>GDP</th>\n",
       "      <th>area</th>\n",
       "    </tr>\n",
       "  </thead>\n",
       "  <tbody>\n",
       "    <tr>\n",
       "      <th>WA</th>\n",
       "      <td>Western Australia</td>\n",
       "      <td>GMT+8</td>\n",
       "      <td>1.0</td>\n",
       "      <td>11</td>\n",
       "      <td>TBD</td>\n",
       "    </tr>\n",
       "    <tr>\n",
       "      <th>SA</th>\n",
       "      <td>Southern Australia</td>\n",
       "      <td>GMT+9.30</td>\n",
       "      <td>1.0</td>\n",
       "      <td>8</td>\n",
       "      <td>TBD</td>\n",
       "    </tr>\n",
       "    <tr>\n",
       "      <th>VIC</th>\n",
       "      <td>Victoria</td>\n",
       "      <td>GMT+10</td>\n",
       "      <td>2.5</td>\n",
       "      <td>20</td>\n",
       "      <td>TBD</td>\n",
       "    </tr>\n",
       "    <tr>\n",
       "      <th>NSW</th>\n",
       "      <td>New South Wales</td>\n",
       "      <td>GMT+10</td>\n",
       "      <td>2.7</td>\n",
       "      <td>22</td>\n",
       "      <td>TBD</td>\n",
       "    </tr>\n",
       "    <tr>\n",
       "      <th>ACT</th>\n",
       "      <td>Australian Capital Territory</td>\n",
       "      <td>GMT+10</td>\n",
       "      <td>0.5</td>\n",
       "      <td>15</td>\n",
       "      <td>TBD</td>\n",
       "    </tr>\n",
       "    <tr>\n",
       "      <th>QLD</th>\n",
       "      <td>Queensland</td>\n",
       "      <td>GMT+10</td>\n",
       "      <td>1.5</td>\n",
       "      <td>18</td>\n",
       "      <td>TBD</td>\n",
       "    </tr>\n",
       "    <tr>\n",
       "      <th>NT</th>\n",
       "      <td>Northern Territory</td>\n",
       "      <td>GMT+9.30</td>\n",
       "      <td>0.4</td>\n",
       "      <td>8</td>\n",
       "      <td>TBD</td>\n",
       "    </tr>\n",
       "  </tbody>\n",
       "</table>\n",
       "</div>"
      ],
      "text/plain": [
       "                            state        TZ  pop  GDP area\n",
       "WA              Western Australia     GMT+8  1.0   11  TBD\n",
       "SA             Southern Australia  GMT+9.30  1.0    8  TBD\n",
       "VIC                      Victoria    GMT+10  2.5   20  TBD\n",
       "NSW               New South Wales    GMT+10  2.7   22  TBD\n",
       "ACT  Australian Capital Territory    GMT+10  0.5   15  TBD\n",
       "QLD                    Queensland    GMT+10  1.5   18  TBD\n",
       "NT             Northern Territory  GMT+9.30  0.4    8  TBD"
      ]
     },
     "execution_count": 49,
     "metadata": {},
     "output_type": "execute_result"
    }
   ],
   "source": [
    "#Check DataFrame\n",
    "df_states"
   ]
  },
  {
   "cell_type": "code",
   "execution_count": 50,
   "metadata": {},
   "outputs": [
    {
     "data": {
      "text/html": [
       "<div>\n",
       "<style scoped>\n",
       "    .dataframe tbody tr th:only-of-type {\n",
       "        vertical-align: middle;\n",
       "    }\n",
       "\n",
       "    .dataframe tbody tr th {\n",
       "        vertical-align: top;\n",
       "    }\n",
       "\n",
       "    .dataframe thead th {\n",
       "        text-align: right;\n",
       "    }\n",
       "</style>\n",
       "<table border=\"1\" class=\"dataframe\">\n",
       "  <thead>\n",
       "    <tr style=\"text-align: right;\">\n",
       "      <th></th>\n",
       "      <th>TZ</th>\n",
       "      <th>pop</th>\n",
       "      <th>GDP</th>\n",
       "    </tr>\n",
       "  </thead>\n",
       "  <tbody>\n",
       "    <tr>\n",
       "      <th>WA</th>\n",
       "      <td>GMT+8</td>\n",
       "      <td>1.0</td>\n",
       "      <td>11</td>\n",
       "    </tr>\n",
       "    <tr>\n",
       "      <th>SA</th>\n",
       "      <td>GMT+9.30</td>\n",
       "      <td>1.0</td>\n",
       "      <td>8</td>\n",
       "    </tr>\n",
       "    <tr>\n",
       "      <th>VIC</th>\n",
       "      <td>GMT+10</td>\n",
       "      <td>2.5</td>\n",
       "      <td>20</td>\n",
       "    </tr>\n",
       "    <tr>\n",
       "      <th>NSW</th>\n",
       "      <td>GMT+10</td>\n",
       "      <td>2.7</td>\n",
       "      <td>22</td>\n",
       "    </tr>\n",
       "    <tr>\n",
       "      <th>ACT</th>\n",
       "      <td>GMT+10</td>\n",
       "      <td>0.5</td>\n",
       "      <td>15</td>\n",
       "    </tr>\n",
       "    <tr>\n",
       "      <th>QLD</th>\n",
       "      <td>GMT+10</td>\n",
       "      <td>1.5</td>\n",
       "      <td>18</td>\n",
       "    </tr>\n",
       "    <tr>\n",
       "      <th>NT</th>\n",
       "      <td>GMT+9.30</td>\n",
       "      <td>0.4</td>\n",
       "      <td>8</td>\n",
       "    </tr>\n",
       "  </tbody>\n",
       "</table>\n",
       "</div>"
      ],
      "text/plain": [
       "           TZ  pop  GDP\n",
       "WA      GMT+8  1.0   11\n",
       "SA   GMT+9.30  1.0    8\n",
       "VIC    GMT+10  2.5   20\n",
       "NSW    GMT+10  2.7   22\n",
       "ACT    GMT+10  0.5   15\n",
       "QLD    GMT+10  1.5   18\n",
       "NT   GMT+9.30  0.4    8"
      ]
     },
     "execution_count": 50,
     "metadata": {},
     "output_type": "execute_result"
    }
   ],
   "source": [
    "#Remove columns 'state' and 'area'\n",
    "df1 = df_states.drop(['state','area'], axis=1)\n",
    "df1"
   ]
  },
  {
   "cell_type": "markdown",
   "metadata": {},
   "source": [
    "Observe how the original DataFrame is always preserved, and whenever we use drop() method, a new DataFrame is created"
   ]
  },
  {
   "cell_type": "code",
   "execution_count": 51,
   "metadata": {},
   "outputs": [
    {
     "data": {
      "text/html": [
       "<div>\n",
       "<style scoped>\n",
       "    .dataframe tbody tr th:only-of-type {\n",
       "        vertical-align: middle;\n",
       "    }\n",
       "\n",
       "    .dataframe tbody tr th {\n",
       "        vertical-align: top;\n",
       "    }\n",
       "\n",
       "    .dataframe thead th {\n",
       "        text-align: right;\n",
       "    }\n",
       "</style>\n",
       "<table border=\"1\" class=\"dataframe\">\n",
       "  <thead>\n",
       "    <tr style=\"text-align: right;\">\n",
       "      <th></th>\n",
       "      <th>state</th>\n",
       "      <th>TZ</th>\n",
       "      <th>pop</th>\n",
       "      <th>GDP</th>\n",
       "      <th>area</th>\n",
       "    </tr>\n",
       "  </thead>\n",
       "  <tbody>\n",
       "    <tr>\n",
       "      <th>WA</th>\n",
       "      <td>Western Australia</td>\n",
       "      <td>GMT+8</td>\n",
       "      <td>1.0</td>\n",
       "      <td>11</td>\n",
       "      <td>TBD</td>\n",
       "    </tr>\n",
       "    <tr>\n",
       "      <th>SA</th>\n",
       "      <td>Southern Australia</td>\n",
       "      <td>GMT+9.30</td>\n",
       "      <td>1.0</td>\n",
       "      <td>8</td>\n",
       "      <td>TBD</td>\n",
       "    </tr>\n",
       "    <tr>\n",
       "      <th>VIC</th>\n",
       "      <td>Victoria</td>\n",
       "      <td>GMT+10</td>\n",
       "      <td>2.5</td>\n",
       "      <td>20</td>\n",
       "      <td>TBD</td>\n",
       "    </tr>\n",
       "    <tr>\n",
       "      <th>NSW</th>\n",
       "      <td>New South Wales</td>\n",
       "      <td>GMT+10</td>\n",
       "      <td>2.7</td>\n",
       "      <td>22</td>\n",
       "      <td>TBD</td>\n",
       "    </tr>\n",
       "    <tr>\n",
       "      <th>ACT</th>\n",
       "      <td>Australian Capital Territory</td>\n",
       "      <td>GMT+10</td>\n",
       "      <td>0.5</td>\n",
       "      <td>15</td>\n",
       "      <td>TBD</td>\n",
       "    </tr>\n",
       "    <tr>\n",
       "      <th>QLD</th>\n",
       "      <td>Queensland</td>\n",
       "      <td>GMT+10</td>\n",
       "      <td>1.5</td>\n",
       "      <td>18</td>\n",
       "      <td>TBD</td>\n",
       "    </tr>\n",
       "    <tr>\n",
       "      <th>NT</th>\n",
       "      <td>Northern Territory</td>\n",
       "      <td>GMT+9.30</td>\n",
       "      <td>0.4</td>\n",
       "      <td>8</td>\n",
       "      <td>TBD</td>\n",
       "    </tr>\n",
       "  </tbody>\n",
       "</table>\n",
       "</div>"
      ],
      "text/plain": [
       "                            state        TZ  pop  GDP area\n",
       "WA              Western Australia     GMT+8  1.0   11  TBD\n",
       "SA             Southern Australia  GMT+9.30  1.0    8  TBD\n",
       "VIC                      Victoria    GMT+10  2.5   20  TBD\n",
       "NSW               New South Wales    GMT+10  2.7   22  TBD\n",
       "ACT  Australian Capital Territory    GMT+10  0.5   15  TBD\n",
       "QLD                    Queensland    GMT+10  1.5   18  TBD\n",
       "NT             Northern Territory  GMT+9.30  0.4    8  TBD"
      ]
     },
     "execution_count": 51,
     "metadata": {},
     "output_type": "execute_result"
    }
   ],
   "source": [
    "#Check ORiginal DataFrame\n",
    "df_states"
   ]
  },
  {
   "cell_type": "markdown",
   "metadata": {},
   "source": [
    "### Indexing, Selection and Filtering\n",
    "\n",
    "We have already seen various examples of indexing being used. Let’s explore a little more about indexing features available to Pandas.\n",
    "\n",
    "#### Pandas Series\n",
    "\n",
    "Indexing for Pandas Series works similarly to NumPy ndArrays, with one additional feature being that we can also use the labelled index along with the implicit positional index, which are available for Series.\n",
    "\n",
    "Following are some of the examples of this behaviour:\n",
    "\n"
   ]
  },
  {
   "cell_type": "code",
   "execution_count": 52,
   "metadata": {},
   "outputs": [
    {
     "data": {
      "text/plain": [
       "a   -1.376848\n",
       "b    0.451868\n",
       "c   -1.231485\n",
       "d   -1.780225\n",
       "e    1.226243\n",
       "f   -0.553416\n",
       "g   -0.507006\n",
       "h   -0.447950\n",
       "i    1.473887\n",
       "j   -0.784854\n",
       "dtype: float64"
      ]
     },
     "execution_count": 52,
     "metadata": {},
     "output_type": "execute_result"
    }
   ],
   "source": [
    "#Create a new Series\n",
    "ob1 = Series(np.random.randn(10), index=['a','b','c','d','e','f','g','h','i','j'])\n",
    "ob1"
   ]
  },
  {
   "cell_type": "code",
   "execution_count": 53,
   "metadata": {},
   "outputs": [
    {
     "data": {
      "text/plain": [
       "(-1.3768483522207111, -1.3768483522207111)"
      ]
     },
     "execution_count": 53,
     "metadata": {},
     "output_type": "execute_result"
    }
   ],
   "source": [
    "#Access using positional index, passing 0 index will pick value\n",
    "#corresponding to index a\n",
    "ob1[0], ob1['a']"
   ]
  },
  {
   "cell_type": "markdown",
   "metadata": {},
   "source": [
    "Slicing with labels works a little differently than normal slicing, and the difference is that both the indexes are inclusive whereas in the case of normal slicing, the endpoint is not inclusive."
   ]
  },
  {
   "cell_type": "code",
   "execution_count": 54,
   "metadata": {},
   "outputs": [
    {
     "data": {
      "text/plain": [
       "a    0.566056\n",
       "b    0.132148\n",
       "c   -0.493818\n",
       "d   -0.906019\n",
       "e    0.766029\n",
       "f   -0.900894\n",
       "g    0.813773\n",
       "h    0.831026\n",
       "i    0.546090\n",
       "j    0.747905\n",
       "dtype: float64"
      ]
     },
     "execution_count": 54,
     "metadata": {},
     "output_type": "execute_result"
    }
   ],
   "source": [
    "#Create a new Series\n",
    "ob1 = Series(np.random.randn(10), index=['a','b','c','d','e','f','g','h','i','j'])\n",
    "ob1"
   ]
  },
  {
   "cell_type": "code",
   "execution_count": 55,
   "metadata": {},
   "outputs": [
    {
     "data": {
      "text/plain": [
       "(-0.9008941005308015, -0.9008941005308015)"
      ]
     },
     "execution_count": 55,
     "metadata": {},
     "output_type": "execute_result"
    }
   ],
   "source": [
    "#Check that index number 5 and index label f return same value\n",
    "ob1[5], ob1['f']"
   ]
  },
  {
   "cell_type": "code",
   "execution_count": 56,
   "metadata": {},
   "outputs": [
    {
     "data": {
      "text/plain": [
       "a    0.566056\n",
       "b    0.132148\n",
       "c   -0.493818\n",
       "d   -0.906019\n",
       "e    0.766029\n",
       "dtype: float64"
      ]
     },
     "execution_count": 56,
     "metadata": {},
     "output_type": "execute_result"
    }
   ],
   "source": [
    "#Using slicing with default index, the end point is not included\n",
    "#where slicing with explicit labels, the end point is included\n",
    "ob1[0:5]"
   ]
  },
  {
   "cell_type": "code",
   "execution_count": 57,
   "metadata": {},
   "outputs": [
    {
     "data": {
      "text/plain": [
       "a    0.566056\n",
       "b    0.132148\n",
       "c   -0.493818\n",
       "d   -0.906019\n",
       "e    0.766029\n",
       "f   -0.900894\n",
       "dtype: float64"
      ]
     },
     "execution_count": 57,
     "metadata": {},
     "output_type": "execute_result"
    }
   ],
   "source": [
    "ob1['a':'f']"
   ]
  },
  {
   "cell_type": "markdown",
   "metadata": {},
   "source": [
    "#### Pandas DataFrame\n",
    "\n",
    "As we have already seen, we use indexing to retrieve a particular subset of data along the x and y axis of DataFrame, by passing either the single value or sequence of indexes.\n",
    "\n",
    "The following examples demonstrate these features again:\n"
   ]
  },
  {
   "cell_type": "code",
   "execution_count": 58,
   "metadata": {},
   "outputs": [
    {
     "data": {
      "text/html": [
       "<div>\n",
       "<style scoped>\n",
       "    .dataframe tbody tr th:only-of-type {\n",
       "        vertical-align: middle;\n",
       "    }\n",
       "\n",
       "    .dataframe tbody tr th {\n",
       "        vertical-align: top;\n",
       "    }\n",
       "\n",
       "    .dataframe thead th {\n",
       "        text-align: right;\n",
       "    }\n",
       "</style>\n",
       "<table border=\"1\" class=\"dataframe\">\n",
       "  <thead>\n",
       "    <tr style=\"text-align: right;\">\n",
       "      <th></th>\n",
       "      <th>state</th>\n",
       "      <th>TZ</th>\n",
       "      <th>pop</th>\n",
       "      <th>GDP</th>\n",
       "      <th>area</th>\n",
       "    </tr>\n",
       "  </thead>\n",
       "  <tbody>\n",
       "    <tr>\n",
       "      <th>WA</th>\n",
       "      <td>Western Australia</td>\n",
       "      <td>GMT+8</td>\n",
       "      <td>1.0</td>\n",
       "      <td>11</td>\n",
       "      <td>TBD</td>\n",
       "    </tr>\n",
       "    <tr>\n",
       "      <th>SA</th>\n",
       "      <td>Southern Australia</td>\n",
       "      <td>GMT+9.30</td>\n",
       "      <td>1.0</td>\n",
       "      <td>8</td>\n",
       "      <td>TBD</td>\n",
       "    </tr>\n",
       "    <tr>\n",
       "      <th>VIC</th>\n",
       "      <td>Victoria</td>\n",
       "      <td>GMT+10</td>\n",
       "      <td>2.5</td>\n",
       "      <td>20</td>\n",
       "      <td>TBD</td>\n",
       "    </tr>\n",
       "    <tr>\n",
       "      <th>NSW</th>\n",
       "      <td>New South Wales</td>\n",
       "      <td>GMT+10</td>\n",
       "      <td>2.7</td>\n",
       "      <td>22</td>\n",
       "      <td>TBD</td>\n",
       "    </tr>\n",
       "    <tr>\n",
       "      <th>ACT</th>\n",
       "      <td>Australian Capital Territory</td>\n",
       "      <td>GMT+10</td>\n",
       "      <td>0.5</td>\n",
       "      <td>15</td>\n",
       "      <td>TBD</td>\n",
       "    </tr>\n",
       "    <tr>\n",
       "      <th>QLD</th>\n",
       "      <td>Queensland</td>\n",
       "      <td>GMT+10</td>\n",
       "      <td>1.5</td>\n",
       "      <td>18</td>\n",
       "      <td>TBD</td>\n",
       "    </tr>\n",
       "    <tr>\n",
       "      <th>NT</th>\n",
       "      <td>Northern Territory</td>\n",
       "      <td>GMT+9.30</td>\n",
       "      <td>0.4</td>\n",
       "      <td>8</td>\n",
       "      <td>TBD</td>\n",
       "    </tr>\n",
       "  </tbody>\n",
       "</table>\n",
       "</div>"
      ],
      "text/plain": [
       "                            state        TZ  pop  GDP area\n",
       "WA              Western Australia     GMT+8  1.0   11  TBD\n",
       "SA             Southern Australia  GMT+9.30  1.0    8  TBD\n",
       "VIC                      Victoria    GMT+10  2.5   20  TBD\n",
       "NSW               New South Wales    GMT+10  2.7   22  TBD\n",
       "ACT  Australian Capital Territory    GMT+10  0.5   15  TBD\n",
       "QLD                    Queensland    GMT+10  1.5   18  TBD\n",
       "NT             Northern Territory  GMT+9.30  0.4    8  TBD"
      ]
     },
     "execution_count": 58,
     "metadata": {},
     "output_type": "execute_result"
    }
   ],
   "source": [
    "#Check DataFrame\n",
    "df_states"
   ]
  },
  {
   "cell_type": "code",
   "execution_count": 59,
   "metadata": {},
   "outputs": [
    {
     "data": {
      "text/plain": [
       "WA                Western Australia\n",
       "SA               Southern Australia\n",
       "VIC                        Victoria\n",
       "NSW                 New South Wales\n",
       "ACT    Australian Capital Territory\n",
       "QLD                      Queensland\n",
       "NT               Northern Territory\n",
       "Name: state, dtype: object"
      ]
     },
     "execution_count": 59,
     "metadata": {},
     "output_type": "execute_result"
    }
   ],
   "source": [
    "#Select state column\n",
    "df_states['state']"
   ]
  },
  {
   "cell_type": "code",
   "execution_count": 60,
   "metadata": {},
   "outputs": [
    {
     "data": {
      "text/html": [
       "<div>\n",
       "<style scoped>\n",
       "    .dataframe tbody tr th:only-of-type {\n",
       "        vertical-align: middle;\n",
       "    }\n",
       "\n",
       "    .dataframe tbody tr th {\n",
       "        vertical-align: top;\n",
       "    }\n",
       "\n",
       "    .dataframe thead th {\n",
       "        text-align: right;\n",
       "    }\n",
       "</style>\n",
       "<table border=\"1\" class=\"dataframe\">\n",
       "  <thead>\n",
       "    <tr style=\"text-align: right;\">\n",
       "      <th></th>\n",
       "      <th>state</th>\n",
       "      <th>TZ</th>\n",
       "    </tr>\n",
       "  </thead>\n",
       "  <tbody>\n",
       "    <tr>\n",
       "      <th>WA</th>\n",
       "      <td>Western Australia</td>\n",
       "      <td>GMT+8</td>\n",
       "    </tr>\n",
       "    <tr>\n",
       "      <th>SA</th>\n",
       "      <td>Southern Australia</td>\n",
       "      <td>GMT+9.30</td>\n",
       "    </tr>\n",
       "    <tr>\n",
       "      <th>VIC</th>\n",
       "      <td>Victoria</td>\n",
       "      <td>GMT+10</td>\n",
       "    </tr>\n",
       "    <tr>\n",
       "      <th>NSW</th>\n",
       "      <td>New South Wales</td>\n",
       "      <td>GMT+10</td>\n",
       "    </tr>\n",
       "    <tr>\n",
       "      <th>ACT</th>\n",
       "      <td>Australian Capital Territory</td>\n",
       "      <td>GMT+10</td>\n",
       "    </tr>\n",
       "    <tr>\n",
       "      <th>QLD</th>\n",
       "      <td>Queensland</td>\n",
       "      <td>GMT+10</td>\n",
       "    </tr>\n",
       "    <tr>\n",
       "      <th>NT</th>\n",
       "      <td>Northern Territory</td>\n",
       "      <td>GMT+9.30</td>\n",
       "    </tr>\n",
       "  </tbody>\n",
       "</table>\n",
       "</div>"
      ],
      "text/plain": [
       "                            state        TZ\n",
       "WA              Western Australia     GMT+8\n",
       "SA             Southern Australia  GMT+9.30\n",
       "VIC                      Victoria    GMT+10\n",
       "NSW               New South Wales    GMT+10\n",
       "ACT  Australian Capital Territory    GMT+10\n",
       "QLD                    Queensland    GMT+10\n",
       "NT             Northern Territory  GMT+9.30"
      ]
     },
     "execution_count": 60,
     "metadata": {},
     "output_type": "execute_result"
    }
   ],
   "source": [
    "#Select multiple columns state and TZ\n",
    "df_states[['state', 'TZ']]"
   ]
  },
  {
   "cell_type": "markdown",
   "metadata": {},
   "source": [
    "TThis mechanism of supplying indexes let’s us do data selection by a variety of ways:\n",
    "\n",
    "__By passing row slices:__\n"
   ]
  },
  {
   "cell_type": "code",
   "execution_count": 61,
   "metadata": {},
   "outputs": [
    {
     "data": {
      "text/html": [
       "<div>\n",
       "<style scoped>\n",
       "    .dataframe tbody tr th:only-of-type {\n",
       "        vertical-align: middle;\n",
       "    }\n",
       "\n",
       "    .dataframe tbody tr th {\n",
       "        vertical-align: top;\n",
       "    }\n",
       "\n",
       "    .dataframe thead th {\n",
       "        text-align: right;\n",
       "    }\n",
       "</style>\n",
       "<table border=\"1\" class=\"dataframe\">\n",
       "  <thead>\n",
       "    <tr style=\"text-align: right;\">\n",
       "      <th></th>\n",
       "      <th>state</th>\n",
       "      <th>TZ</th>\n",
       "      <th>pop</th>\n",
       "      <th>GDP</th>\n",
       "      <th>area</th>\n",
       "    </tr>\n",
       "  </thead>\n",
       "  <tbody>\n",
       "    <tr>\n",
       "      <th>WA</th>\n",
       "      <td>Western Australia</td>\n",
       "      <td>GMT+8</td>\n",
       "      <td>1.0</td>\n",
       "      <td>11</td>\n",
       "      <td>TBD</td>\n",
       "    </tr>\n",
       "    <tr>\n",
       "      <th>SA</th>\n",
       "      <td>Southern Australia</td>\n",
       "      <td>GMT+9.30</td>\n",
       "      <td>1.0</td>\n",
       "      <td>8</td>\n",
       "      <td>TBD</td>\n",
       "    </tr>\n",
       "  </tbody>\n",
       "</table>\n",
       "</div>"
      ],
      "text/plain": [
       "                 state        TZ  pop  GDP area\n",
       "WA   Western Australia     GMT+8  1.0   11  TBD\n",
       "SA  Southern Australia  GMT+9.30  1.0    8  TBD"
      ]
     },
     "execution_count": 61,
     "metadata": {},
     "output_type": "execute_result"
    }
   ],
   "source": [
    "df_states[:2]"
   ]
  },
  {
   "cell_type": "markdown",
   "metadata": {},
   "source": [
    "__By passing a Boolean Array (filter array)__:"
   ]
  },
  {
   "cell_type": "code",
   "execution_count": 62,
   "metadata": {},
   "outputs": [
    {
     "data": {
      "text/html": [
       "<div>\n",
       "<style scoped>\n",
       "    .dataframe tbody tr th:only-of-type {\n",
       "        vertical-align: middle;\n",
       "    }\n",
       "\n",
       "    .dataframe tbody tr th {\n",
       "        vertical-align: top;\n",
       "    }\n",
       "\n",
       "    .dataframe thead th {\n",
       "        text-align: right;\n",
       "    }\n",
       "</style>\n",
       "<table border=\"1\" class=\"dataframe\">\n",
       "  <thead>\n",
       "    <tr style=\"text-align: right;\">\n",
       "      <th></th>\n",
       "      <th>state</th>\n",
       "      <th>TZ</th>\n",
       "      <th>pop</th>\n",
       "      <th>GDP</th>\n",
       "      <th>area</th>\n",
       "    </tr>\n",
       "  </thead>\n",
       "  <tbody>\n",
       "    <tr>\n",
       "      <th>WA</th>\n",
       "      <td>Western Australia</td>\n",
       "      <td>GMT+8</td>\n",
       "      <td>1.0</td>\n",
       "      <td>11</td>\n",
       "      <td>TBD</td>\n",
       "    </tr>\n",
       "    <tr>\n",
       "      <th>VIC</th>\n",
       "      <td>Victoria</td>\n",
       "      <td>GMT+10</td>\n",
       "      <td>2.5</td>\n",
       "      <td>20</td>\n",
       "      <td>TBD</td>\n",
       "    </tr>\n",
       "    <tr>\n",
       "      <th>NSW</th>\n",
       "      <td>New South Wales</td>\n",
       "      <td>GMT+10</td>\n",
       "      <td>2.7</td>\n",
       "      <td>22</td>\n",
       "      <td>TBD</td>\n",
       "    </tr>\n",
       "    <tr>\n",
       "      <th>ACT</th>\n",
       "      <td>Australian Capital Territory</td>\n",
       "      <td>GMT+10</td>\n",
       "      <td>0.5</td>\n",
       "      <td>15</td>\n",
       "      <td>TBD</td>\n",
       "    </tr>\n",
       "    <tr>\n",
       "      <th>QLD</th>\n",
       "      <td>Queensland</td>\n",
       "      <td>GMT+10</td>\n",
       "      <td>1.5</td>\n",
       "      <td>18</td>\n",
       "      <td>TBD</td>\n",
       "    </tr>\n",
       "  </tbody>\n",
       "</table>\n",
       "</div>"
      ],
      "text/plain": [
       "                            state      TZ  pop  GDP area\n",
       "WA              Western Australia   GMT+8  1.0   11  TBD\n",
       "VIC                      Victoria  GMT+10  2.5   20  TBD\n",
       "NSW               New South Wales  GMT+10  2.7   22  TBD\n",
       "ACT  Australian Capital Territory  GMT+10  0.5   15  TBD\n",
       "QLD                    Queensland  GMT+10  1.5   18  TBD"
      ]
     },
     "execution_count": 62,
     "metadata": {},
     "output_type": "execute_result"
    }
   ],
   "source": [
    "df_states[df_states['GDP']>8]"
   ]
  },
  {
   "cell_type": "markdown",
   "metadata": {},
   "source": [
    "### Data alignment\n",
    "\n",
    "One of the interesting features of Pandas operations is data alignment. We have already seen some analogous behaviours. \n",
    "\n",
    "For example: \n",
    "- The creation of DataFrame (ie, if data is not presented for one of the specified columns, then missing values are filled in automatically as NaN).\n",
    "\n",
    "- Reindexing if the data doesn’t exist for the supplied index. So then by default, NaN is filled for those indexes and additionally we have the option to pass values and methods as well to the reindex method.\n",
    "\n",
    "On the same lines, if we do mathematical operations between Panda objects with different indexes, Pandas will perform the data alignment into the resulting Panda object.\n",
    "\n"
   ]
  },
  {
   "cell_type": "code",
   "execution_count": 63,
   "metadata": {},
   "outputs": [
    {
     "data": {
      "text/html": [
       "<div>\n",
       "<style scoped>\n",
       "    .dataframe tbody tr th:only-of-type {\n",
       "        vertical-align: middle;\n",
       "    }\n",
       "\n",
       "    .dataframe tbody tr th {\n",
       "        vertical-align: top;\n",
       "    }\n",
       "\n",
       "    .dataframe thead th {\n",
       "        text-align: right;\n",
       "    }\n",
       "</style>\n",
       "<table border=\"1\" class=\"dataframe\">\n",
       "  <thead>\n",
       "    <tr style=\"text-align: right;\">\n",
       "      <th></th>\n",
       "      <th>a</th>\n",
       "      <th>b</th>\n",
       "      <th>c</th>\n",
       "    </tr>\n",
       "  </thead>\n",
       "  <tbody>\n",
       "    <tr>\n",
       "      <th>SA</th>\n",
       "      <td>0</td>\n",
       "      <td>1</td>\n",
       "      <td>2</td>\n",
       "    </tr>\n",
       "    <tr>\n",
       "      <th>VIC</th>\n",
       "      <td>3</td>\n",
       "      <td>4</td>\n",
       "      <td>5</td>\n",
       "    </tr>\n",
       "    <tr>\n",
       "      <th>NSW</th>\n",
       "      <td>6</td>\n",
       "      <td>7</td>\n",
       "      <td>8</td>\n",
       "    </tr>\n",
       "  </tbody>\n",
       "</table>\n",
       "</div>"
      ],
      "text/plain": [
       "     a  b  c\n",
       "SA   0  1  2\n",
       "VIC  3  4  5\n",
       "NSW  6  7  8"
      ]
     },
     "execution_count": 63,
     "metadata": {},
     "output_type": "execute_result"
    }
   ],
   "source": [
    "#Create 3X3 dataframe with random numbers,\n",
    "#Columns = a,b,c\n",
    "#Index = 'SA', 'VIC', 'NSW'\n",
    "df1 = DataFrame(np.arange(9).reshape(3,3), columns=['a','b','c'], index=['SA', 'VIC', 'NSW'])\n",
    "df1"
   ]
  },
  {
   "cell_type": "code",
   "execution_count": 64,
   "metadata": {},
   "outputs": [
    {
     "data": {
      "text/html": [
       "<div>\n",
       "<style scoped>\n",
       "    .dataframe tbody tr th:only-of-type {\n",
       "        vertical-align: middle;\n",
       "    }\n",
       "\n",
       "    .dataframe tbody tr th {\n",
       "        vertical-align: top;\n",
       "    }\n",
       "\n",
       "    .dataframe thead th {\n",
       "        text-align: right;\n",
       "    }\n",
       "</style>\n",
       "<table border=\"1\" class=\"dataframe\">\n",
       "  <thead>\n",
       "    <tr style=\"text-align: right;\">\n",
       "      <th></th>\n",
       "      <th>a</th>\n",
       "      <th>b</th>\n",
       "      <th>e</th>\n",
       "    </tr>\n",
       "  </thead>\n",
       "  <tbody>\n",
       "    <tr>\n",
       "      <th>SA</th>\n",
       "      <td>0</td>\n",
       "      <td>1</td>\n",
       "      <td>2</td>\n",
       "    </tr>\n",
       "    <tr>\n",
       "      <th>VIC</th>\n",
       "      <td>3</td>\n",
       "      <td>4</td>\n",
       "      <td>5</td>\n",
       "    </tr>\n",
       "    <tr>\n",
       "      <th>NSW</th>\n",
       "      <td>6</td>\n",
       "      <td>7</td>\n",
       "      <td>8</td>\n",
       "    </tr>\n",
       "    <tr>\n",
       "      <th>ACT</th>\n",
       "      <td>9</td>\n",
       "      <td>10</td>\n",
       "      <td>11</td>\n",
       "    </tr>\n",
       "  </tbody>\n",
       "</table>\n",
       "</div>"
      ],
      "text/plain": [
       "     a   b   e\n",
       "SA   0   1   2\n",
       "VIC  3   4   5\n",
       "NSW  6   7   8\n",
       "ACT  9  10  11"
      ]
     },
     "execution_count": 64,
     "metadata": {},
     "output_type": "execute_result"
    }
   ],
   "source": [
    "#Create 4X3 dataframe with random numbers,\n",
    "#Columns = a,c,E\n",
    "#Index = 'SA', 'VIC', 'NSW', 'ACT'\n",
    "df2 = DataFrame(np.arange(12).reshape(4,3), columns=['a','b','e'], index=['SA', 'VIC', 'NSW', 'ACT'])\n",
    "df2"
   ]
  },
  {
   "cell_type": "markdown",
   "metadata": {},
   "source": [
    "In case of addition, if index pairs are not the same, the resultant Pandas object will have the index that is union of both the original index, and missing values will be filled as NaN."
   ]
  },
  {
   "cell_type": "code",
   "execution_count": 65,
   "metadata": {},
   "outputs": [
    {
     "data": {
      "text/html": [
       "<div>\n",
       "<style scoped>\n",
       "    .dataframe tbody tr th:only-of-type {\n",
       "        vertical-align: middle;\n",
       "    }\n",
       "\n",
       "    .dataframe tbody tr th {\n",
       "        vertical-align: top;\n",
       "    }\n",
       "\n",
       "    .dataframe thead th {\n",
       "        text-align: right;\n",
       "    }\n",
       "</style>\n",
       "<table border=\"1\" class=\"dataframe\">\n",
       "  <thead>\n",
       "    <tr style=\"text-align: right;\">\n",
       "      <th></th>\n",
       "      <th>a</th>\n",
       "      <th>b</th>\n",
       "      <th>c</th>\n",
       "      <th>e</th>\n",
       "    </tr>\n",
       "  </thead>\n",
       "  <tbody>\n",
       "    <tr>\n",
       "      <th>ACT</th>\n",
       "      <td>NaN</td>\n",
       "      <td>NaN</td>\n",
       "      <td>NaN</td>\n",
       "      <td>NaN</td>\n",
       "    </tr>\n",
       "    <tr>\n",
       "      <th>NSW</th>\n",
       "      <td>12.0</td>\n",
       "      <td>14.0</td>\n",
       "      <td>NaN</td>\n",
       "      <td>NaN</td>\n",
       "    </tr>\n",
       "    <tr>\n",
       "      <th>SA</th>\n",
       "      <td>0.0</td>\n",
       "      <td>2.0</td>\n",
       "      <td>NaN</td>\n",
       "      <td>NaN</td>\n",
       "    </tr>\n",
       "    <tr>\n",
       "      <th>VIC</th>\n",
       "      <td>6.0</td>\n",
       "      <td>8.0</td>\n",
       "      <td>NaN</td>\n",
       "      <td>NaN</td>\n",
       "    </tr>\n",
       "  </tbody>\n",
       "</table>\n",
       "</div>"
      ],
      "text/plain": [
       "        a     b   c   e\n",
       "ACT   NaN   NaN NaN NaN\n",
       "NSW  12.0  14.0 NaN NaN\n",
       "SA    0.0   2.0 NaN NaN\n",
       "VIC   6.0   8.0 NaN NaN"
      ]
     },
     "execution_count": 65,
     "metadata": {},
     "output_type": "execute_result"
    }
   ],
   "source": [
    "#Observer data alignment when we add the two dataframes\n",
    "#and missing values are filled as NaN \n",
    "#-> Column c and Column e are NANs as either one of the array has that column missing\n",
    "#-> And for ACT row, column a and b are NAN (as ACT row for these columns is NAN, in df1)\n",
    "#Indexes are arranged in order\n",
    "df1+df2"
   ]
  },
  {
   "cell_type": "markdown",
   "metadata": {},
   "source": [
    "We also have the option of passing parameter values to determine how missing values should be dealt with, which performs this internal data alignment."
   ]
  },
  {
   "cell_type": "code",
   "execution_count": 66,
   "metadata": {},
   "outputs": [
    {
     "data": {
      "text/html": [
       "<div>\n",
       "<style scoped>\n",
       "    .dataframe tbody tr th:only-of-type {\n",
       "        vertical-align: middle;\n",
       "    }\n",
       "\n",
       "    .dataframe tbody tr th {\n",
       "        vertical-align: top;\n",
       "    }\n",
       "\n",
       "    .dataframe thead th {\n",
       "        text-align: right;\n",
       "    }\n",
       "</style>\n",
       "<table border=\"1\" class=\"dataframe\">\n",
       "  <thead>\n",
       "    <tr style=\"text-align: right;\">\n",
       "      <th></th>\n",
       "      <th>a</th>\n",
       "      <th>b</th>\n",
       "      <th>c</th>\n",
       "      <th>e</th>\n",
       "    </tr>\n",
       "  </thead>\n",
       "  <tbody>\n",
       "    <tr>\n",
       "      <th>ACT</th>\n",
       "      <td>9.0</td>\n",
       "      <td>10.0</td>\n",
       "      <td>NaN</td>\n",
       "      <td>11.0</td>\n",
       "    </tr>\n",
       "    <tr>\n",
       "      <th>NSW</th>\n",
       "      <td>12.0</td>\n",
       "      <td>14.0</td>\n",
       "      <td>8.0</td>\n",
       "      <td>8.0</td>\n",
       "    </tr>\n",
       "    <tr>\n",
       "      <th>SA</th>\n",
       "      <td>0.0</td>\n",
       "      <td>2.0</td>\n",
       "      <td>2.0</td>\n",
       "      <td>2.0</td>\n",
       "    </tr>\n",
       "    <tr>\n",
       "      <th>VIC</th>\n",
       "      <td>6.0</td>\n",
       "      <td>8.0</td>\n",
       "      <td>5.0</td>\n",
       "      <td>5.0</td>\n",
       "    </tr>\n",
       "  </tbody>\n",
       "</table>\n",
       "</div>"
      ],
      "text/plain": [
       "        a     b    c     e\n",
       "ACT   9.0  10.0  NaN  11.0\n",
       "NSW  12.0  14.0  8.0   8.0\n",
       "SA    0.0   2.0  2.0   2.0\n",
       "VIC   6.0   8.0  5.0   5.0"
      ]
     },
     "execution_count": 66,
     "metadata": {},
     "output_type": "execute_result"
    }
   ],
   "source": [
    "#adding with .add()method and passing fill_value parameter\n",
    "df1.add(df2, fill_value=0)"
   ]
  },
  {
   "cell_type": "markdown",
   "metadata": {},
   "source": [
    "### Mapping\n",
    "\n",
    "At many times, we would want to change or manipulate the values in a particular row or a column by way of applying some functions to the values in selection. For example, think of a data set that captures information about a large collection of products (represented as columns in the data set). These products update to a new version every year. You need a way to update all the version numbers quickly and easily.\n",
    "\n",
    "This process is known as mapping, and we do this by using the .apply() method, which has following parameters:\n",
    "- a lambda function, to specify what kind of transformation needs to be applied\n",
    "- an axis parameter, which by default equates to 0 and so applies across the index (and not columns).\n",
    "\n",
    "The following code snippets demonstrates this behaviour:\n"
   ]
  },
  {
   "cell_type": "code",
   "execution_count": 67,
   "metadata": {},
   "outputs": [
    {
     "data": {
      "text/html": [
       "<div>\n",
       "<style scoped>\n",
       "    .dataframe tbody tr th:only-of-type {\n",
       "        vertical-align: middle;\n",
       "    }\n",
       "\n",
       "    .dataframe tbody tr th {\n",
       "        vertical-align: top;\n",
       "    }\n",
       "\n",
       "    .dataframe thead th {\n",
       "        text-align: right;\n",
       "    }\n",
       "</style>\n",
       "<table border=\"1\" class=\"dataframe\">\n",
       "  <thead>\n",
       "    <tr style=\"text-align: right;\">\n",
       "      <th></th>\n",
       "      <th>state</th>\n",
       "      <th>TZ</th>\n",
       "      <th>pop</th>\n",
       "      <th>GDP</th>\n",
       "      <th>area</th>\n",
       "    </tr>\n",
       "  </thead>\n",
       "  <tbody>\n",
       "    <tr>\n",
       "      <th>WA</th>\n",
       "      <td>Western Australia</td>\n",
       "      <td>GMT+8</td>\n",
       "      <td>1.0</td>\n",
       "      <td>11</td>\n",
       "      <td>TBD</td>\n",
       "    </tr>\n",
       "    <tr>\n",
       "      <th>SA</th>\n",
       "      <td>Southern Australia</td>\n",
       "      <td>GMT+9.30</td>\n",
       "      <td>1.0</td>\n",
       "      <td>8</td>\n",
       "      <td>TBD</td>\n",
       "    </tr>\n",
       "    <tr>\n",
       "      <th>VIC</th>\n",
       "      <td>Victoria</td>\n",
       "      <td>GMT+10</td>\n",
       "      <td>2.5</td>\n",
       "      <td>20</td>\n",
       "      <td>TBD</td>\n",
       "    </tr>\n",
       "    <tr>\n",
       "      <th>NSW</th>\n",
       "      <td>New South Wales</td>\n",
       "      <td>GMT+10</td>\n",
       "      <td>2.7</td>\n",
       "      <td>22</td>\n",
       "      <td>TBD</td>\n",
       "    </tr>\n",
       "    <tr>\n",
       "      <th>ACT</th>\n",
       "      <td>Australian Capital Territory</td>\n",
       "      <td>GMT+10</td>\n",
       "      <td>0.5</td>\n",
       "      <td>15</td>\n",
       "      <td>TBD</td>\n",
       "    </tr>\n",
       "    <tr>\n",
       "      <th>QLD</th>\n",
       "      <td>Queensland</td>\n",
       "      <td>GMT+10</td>\n",
       "      <td>1.5</td>\n",
       "      <td>18</td>\n",
       "      <td>TBD</td>\n",
       "    </tr>\n",
       "    <tr>\n",
       "      <th>NT</th>\n",
       "      <td>Northern Territory</td>\n",
       "      <td>GMT+9.30</td>\n",
       "      <td>0.4</td>\n",
       "      <td>8</td>\n",
       "      <td>TBD</td>\n",
       "    </tr>\n",
       "  </tbody>\n",
       "</table>\n",
       "</div>"
      ],
      "text/plain": [
       "                            state        TZ  pop  GDP area\n",
       "WA              Western Australia     GMT+8  1.0   11  TBD\n",
       "SA             Southern Australia  GMT+9.30  1.0    8  TBD\n",
       "VIC                      Victoria    GMT+10  2.5   20  TBD\n",
       "NSW               New South Wales    GMT+10  2.7   22  TBD\n",
       "ACT  Australian Capital Territory    GMT+10  0.5   15  TBD\n",
       "QLD                    Queensland    GMT+10  1.5   18  TBD\n",
       "NT             Northern Territory  GMT+9.30  0.4    8  TBD"
      ]
     },
     "execution_count": 67,
     "metadata": {},
     "output_type": "execute_result"
    }
   ],
   "source": [
    "#Check DataFrame\n",
    "df_states"
   ]
  },
  {
   "cell_type": "code",
   "execution_count": 68,
   "metadata": {},
   "outputs": [],
   "source": [
    "#Create a Lambda function to convert string to upper case\n",
    "f = lambda x:x.upper()"
   ]
  },
  {
   "cell_type": "code",
   "execution_count": 69,
   "metadata": {},
   "outputs": [],
   "source": [
    "#Apply Function Mapping to state column and update DataFrame\n",
    "df_states['state'] = df_states['state'].apply(f)"
   ]
  },
  {
   "cell_type": "code",
   "execution_count": 70,
   "metadata": {},
   "outputs": [
    {
     "data": {
      "text/html": [
       "<div>\n",
       "<style scoped>\n",
       "    .dataframe tbody tr th:only-of-type {\n",
       "        vertical-align: middle;\n",
       "    }\n",
       "\n",
       "    .dataframe tbody tr th {\n",
       "        vertical-align: top;\n",
       "    }\n",
       "\n",
       "    .dataframe thead th {\n",
       "        text-align: right;\n",
       "    }\n",
       "</style>\n",
       "<table border=\"1\" class=\"dataframe\">\n",
       "  <thead>\n",
       "    <tr style=\"text-align: right;\">\n",
       "      <th></th>\n",
       "      <th>state</th>\n",
       "      <th>TZ</th>\n",
       "      <th>pop</th>\n",
       "      <th>GDP</th>\n",
       "      <th>area</th>\n",
       "    </tr>\n",
       "  </thead>\n",
       "  <tbody>\n",
       "    <tr>\n",
       "      <th>WA</th>\n",
       "      <td>WESTERN AUSTRALIA</td>\n",
       "      <td>GMT+8</td>\n",
       "      <td>1.0</td>\n",
       "      <td>11</td>\n",
       "      <td>TBD</td>\n",
       "    </tr>\n",
       "    <tr>\n",
       "      <th>SA</th>\n",
       "      <td>SOUTHERN AUSTRALIA</td>\n",
       "      <td>GMT+9.30</td>\n",
       "      <td>1.0</td>\n",
       "      <td>8</td>\n",
       "      <td>TBD</td>\n",
       "    </tr>\n",
       "    <tr>\n",
       "      <th>VIC</th>\n",
       "      <td>VICTORIA</td>\n",
       "      <td>GMT+10</td>\n",
       "      <td>2.5</td>\n",
       "      <td>20</td>\n",
       "      <td>TBD</td>\n",
       "    </tr>\n",
       "    <tr>\n",
       "      <th>NSW</th>\n",
       "      <td>NEW SOUTH WALES</td>\n",
       "      <td>GMT+10</td>\n",
       "      <td>2.7</td>\n",
       "      <td>22</td>\n",
       "      <td>TBD</td>\n",
       "    </tr>\n",
       "    <tr>\n",
       "      <th>ACT</th>\n",
       "      <td>AUSTRALIAN CAPITAL TERRITORY</td>\n",
       "      <td>GMT+10</td>\n",
       "      <td>0.5</td>\n",
       "      <td>15</td>\n",
       "      <td>TBD</td>\n",
       "    </tr>\n",
       "    <tr>\n",
       "      <th>QLD</th>\n",
       "      <td>QUEENSLAND</td>\n",
       "      <td>GMT+10</td>\n",
       "      <td>1.5</td>\n",
       "      <td>18</td>\n",
       "      <td>TBD</td>\n",
       "    </tr>\n",
       "    <tr>\n",
       "      <th>NT</th>\n",
       "      <td>NORTHERN TERRITORY</td>\n",
       "      <td>GMT+9.30</td>\n",
       "      <td>0.4</td>\n",
       "      <td>8</td>\n",
       "      <td>TBD</td>\n",
       "    </tr>\n",
       "  </tbody>\n",
       "</table>\n",
       "</div>"
      ],
      "text/plain": [
       "                            state        TZ  pop  GDP area\n",
       "WA              WESTERN AUSTRALIA     GMT+8  1.0   11  TBD\n",
       "SA             SOUTHERN AUSTRALIA  GMT+9.30  1.0    8  TBD\n",
       "VIC                      VICTORIA    GMT+10  2.5   20  TBD\n",
       "NSW               NEW SOUTH WALES    GMT+10  2.7   22  TBD\n",
       "ACT  AUSTRALIAN CAPITAL TERRITORY    GMT+10  0.5   15  TBD\n",
       "QLD                    QUEENSLAND    GMT+10  1.5   18  TBD\n",
       "NT             NORTHERN TERRITORY  GMT+9.30  0.4    8  TBD"
      ]
     },
     "execution_count": 70,
     "metadata": {},
     "output_type": "execute_result"
    }
   ],
   "source": [
    "df_states"
   ]
  },
  {
   "cell_type": "markdown",
   "metadata": {},
   "source": [
    "Note that there are other methods available for doing column wise transformations, and we will cover some of those in detail during the data wrangling sections of this course."
   ]
  },
  {
   "cell_type": "markdown",
   "metadata": {},
   "source": [
    "### Sorting\n",
    "\n",
    "Many kinds of data need to be sorted to be meaningful and useful. Think of a video on-demand streaming service that needs to know which TV series in its catalogue are the most popular, so that it can decide which of them to renew for another season. The series titles need to be sorted by the most watched. Sorting is also one of the important operations that we perform on the data in Pandas. \n",
    "\n",
    "#### Sorting the indexes / labels\n",
    "\n",
    "To sort lexicographically (ie, the dictionary order) by row or column index, we use the sort_index() method. See below a demonstration of sorting the indexes.\n",
    "\n",
    "It should be noted that this method returns a new object, which is sorted based on the criteria specified:"
   ]
  },
  {
   "cell_type": "markdown",
   "metadata": {},
   "source": [
    "Original DataFrame"
   ]
  },
  {
   "cell_type": "code",
   "execution_count": 71,
   "metadata": {},
   "outputs": [
    {
     "data": {
      "text/html": [
       "<div>\n",
       "<style scoped>\n",
       "    .dataframe tbody tr th:only-of-type {\n",
       "        vertical-align: middle;\n",
       "    }\n",
       "\n",
       "    .dataframe tbody tr th {\n",
       "        vertical-align: top;\n",
       "    }\n",
       "\n",
       "    .dataframe thead th {\n",
       "        text-align: right;\n",
       "    }\n",
       "</style>\n",
       "<table border=\"1\" class=\"dataframe\">\n",
       "  <thead>\n",
       "    <tr style=\"text-align: right;\">\n",
       "      <th></th>\n",
       "      <th>state</th>\n",
       "      <th>TZ</th>\n",
       "      <th>pop</th>\n",
       "      <th>GDP</th>\n",
       "      <th>area</th>\n",
       "    </tr>\n",
       "  </thead>\n",
       "  <tbody>\n",
       "    <tr>\n",
       "      <th>WA</th>\n",
       "      <td>WESTERN AUSTRALIA</td>\n",
       "      <td>GMT+8</td>\n",
       "      <td>1.0</td>\n",
       "      <td>11</td>\n",
       "      <td>TBD</td>\n",
       "    </tr>\n",
       "    <tr>\n",
       "      <th>SA</th>\n",
       "      <td>SOUTHERN AUSTRALIA</td>\n",
       "      <td>GMT+9.30</td>\n",
       "      <td>1.0</td>\n",
       "      <td>8</td>\n",
       "      <td>TBD</td>\n",
       "    </tr>\n",
       "    <tr>\n",
       "      <th>VIC</th>\n",
       "      <td>VICTORIA</td>\n",
       "      <td>GMT+10</td>\n",
       "      <td>2.5</td>\n",
       "      <td>20</td>\n",
       "      <td>TBD</td>\n",
       "    </tr>\n",
       "    <tr>\n",
       "      <th>NSW</th>\n",
       "      <td>NEW SOUTH WALES</td>\n",
       "      <td>GMT+10</td>\n",
       "      <td>2.7</td>\n",
       "      <td>22</td>\n",
       "      <td>TBD</td>\n",
       "    </tr>\n",
       "    <tr>\n",
       "      <th>ACT</th>\n",
       "      <td>AUSTRALIAN CAPITAL TERRITORY</td>\n",
       "      <td>GMT+10</td>\n",
       "      <td>0.5</td>\n",
       "      <td>15</td>\n",
       "      <td>TBD</td>\n",
       "    </tr>\n",
       "    <tr>\n",
       "      <th>QLD</th>\n",
       "      <td>QUEENSLAND</td>\n",
       "      <td>GMT+10</td>\n",
       "      <td>1.5</td>\n",
       "      <td>18</td>\n",
       "      <td>TBD</td>\n",
       "    </tr>\n",
       "    <tr>\n",
       "      <th>NT</th>\n",
       "      <td>NORTHERN TERRITORY</td>\n",
       "      <td>GMT+9.30</td>\n",
       "      <td>0.4</td>\n",
       "      <td>8</td>\n",
       "      <td>TBD</td>\n",
       "    </tr>\n",
       "  </tbody>\n",
       "</table>\n",
       "</div>"
      ],
      "text/plain": [
       "                            state        TZ  pop  GDP area\n",
       "WA              WESTERN AUSTRALIA     GMT+8  1.0   11  TBD\n",
       "SA             SOUTHERN AUSTRALIA  GMT+9.30  1.0    8  TBD\n",
       "VIC                      VICTORIA    GMT+10  2.5   20  TBD\n",
       "NSW               NEW SOUTH WALES    GMT+10  2.7   22  TBD\n",
       "ACT  AUSTRALIAN CAPITAL TERRITORY    GMT+10  0.5   15  TBD\n",
       "QLD                    QUEENSLAND    GMT+10  1.5   18  TBD\n",
       "NT             NORTHERN TERRITORY  GMT+9.30  0.4    8  TBD"
      ]
     },
     "execution_count": 71,
     "metadata": {},
     "output_type": "execute_result"
    }
   ],
   "source": [
    "df_states"
   ]
  },
  {
   "cell_type": "markdown",
   "metadata": {},
   "source": [
    "Original DataFrame"
   ]
  },
  {
   "cell_type": "code",
   "execution_count": 72,
   "metadata": {},
   "outputs": [
    {
     "data": {
      "text/html": [
       "<div>\n",
       "<style scoped>\n",
       "    .dataframe tbody tr th:only-of-type {\n",
       "        vertical-align: middle;\n",
       "    }\n",
       "\n",
       "    .dataframe tbody tr th {\n",
       "        vertical-align: top;\n",
       "    }\n",
       "\n",
       "    .dataframe thead th {\n",
       "        text-align: right;\n",
       "    }\n",
       "</style>\n",
       "<table border=\"1\" class=\"dataframe\">\n",
       "  <thead>\n",
       "    <tr style=\"text-align: right;\">\n",
       "      <th></th>\n",
       "      <th>state</th>\n",
       "      <th>TZ</th>\n",
       "      <th>pop</th>\n",
       "      <th>GDP</th>\n",
       "      <th>area</th>\n",
       "    </tr>\n",
       "  </thead>\n",
       "  <tbody>\n",
       "    <tr>\n",
       "      <th>ACT</th>\n",
       "      <td>AUSTRALIAN CAPITAL TERRITORY</td>\n",
       "      <td>GMT+10</td>\n",
       "      <td>0.5</td>\n",
       "      <td>15</td>\n",
       "      <td>TBD</td>\n",
       "    </tr>\n",
       "    <tr>\n",
       "      <th>NSW</th>\n",
       "      <td>NEW SOUTH WALES</td>\n",
       "      <td>GMT+10</td>\n",
       "      <td>2.7</td>\n",
       "      <td>22</td>\n",
       "      <td>TBD</td>\n",
       "    </tr>\n",
       "    <tr>\n",
       "      <th>NT</th>\n",
       "      <td>NORTHERN TERRITORY</td>\n",
       "      <td>GMT+9.30</td>\n",
       "      <td>0.4</td>\n",
       "      <td>8</td>\n",
       "      <td>TBD</td>\n",
       "    </tr>\n",
       "    <tr>\n",
       "      <th>QLD</th>\n",
       "      <td>QUEENSLAND</td>\n",
       "      <td>GMT+10</td>\n",
       "      <td>1.5</td>\n",
       "      <td>18</td>\n",
       "      <td>TBD</td>\n",
       "    </tr>\n",
       "    <tr>\n",
       "      <th>SA</th>\n",
       "      <td>SOUTHERN AUSTRALIA</td>\n",
       "      <td>GMT+9.30</td>\n",
       "      <td>1.0</td>\n",
       "      <td>8</td>\n",
       "      <td>TBD</td>\n",
       "    </tr>\n",
       "    <tr>\n",
       "      <th>VIC</th>\n",
       "      <td>VICTORIA</td>\n",
       "      <td>GMT+10</td>\n",
       "      <td>2.5</td>\n",
       "      <td>20</td>\n",
       "      <td>TBD</td>\n",
       "    </tr>\n",
       "    <tr>\n",
       "      <th>WA</th>\n",
       "      <td>WESTERN AUSTRALIA</td>\n",
       "      <td>GMT+8</td>\n",
       "      <td>1.0</td>\n",
       "      <td>11</td>\n",
       "      <td>TBD</td>\n",
       "    </tr>\n",
       "  </tbody>\n",
       "</table>\n",
       "</div>"
      ],
      "text/plain": [
       "                            state        TZ  pop  GDP area\n",
       "ACT  AUSTRALIAN CAPITAL TERRITORY    GMT+10  0.5   15  TBD\n",
       "NSW               NEW SOUTH WALES    GMT+10  2.7   22  TBD\n",
       "NT             NORTHERN TERRITORY  GMT+9.30  0.4    8  TBD\n",
       "QLD                    QUEENSLAND    GMT+10  1.5   18  TBD\n",
       "SA             SOUTHERN AUSTRALIA  GMT+9.30  1.0    8  TBD\n",
       "VIC                      VICTORIA    GMT+10  2.5   20  TBD\n",
       "WA              WESTERN AUSTRALIA     GMT+8  1.0   11  TBD"
      ]
     },
     "execution_count": 72,
     "metadata": {},
     "output_type": "execute_result"
    }
   ],
   "source": [
    "df_states.sort_index()"
   ]
  },
  {
   "cell_type": "markdown",
   "metadata": {},
   "source": [
    "DataFrame sorted by columns (lexicographically)"
   ]
  },
  {
   "cell_type": "code",
   "execution_count": 73,
   "metadata": {},
   "outputs": [
    {
     "data": {
      "text/html": [
       "<div>\n",
       "<style scoped>\n",
       "    .dataframe tbody tr th:only-of-type {\n",
       "        vertical-align: middle;\n",
       "    }\n",
       "\n",
       "    .dataframe tbody tr th {\n",
       "        vertical-align: top;\n",
       "    }\n",
       "\n",
       "    .dataframe thead th {\n",
       "        text-align: right;\n",
       "    }\n",
       "</style>\n",
       "<table border=\"1\" class=\"dataframe\">\n",
       "  <thead>\n",
       "    <tr style=\"text-align: right;\">\n",
       "      <th></th>\n",
       "      <th>GDP</th>\n",
       "      <th>TZ</th>\n",
       "      <th>area</th>\n",
       "      <th>pop</th>\n",
       "      <th>state</th>\n",
       "    </tr>\n",
       "  </thead>\n",
       "  <tbody>\n",
       "    <tr>\n",
       "      <th>WA</th>\n",
       "      <td>11</td>\n",
       "      <td>GMT+8</td>\n",
       "      <td>TBD</td>\n",
       "      <td>1.0</td>\n",
       "      <td>WESTERN AUSTRALIA</td>\n",
       "    </tr>\n",
       "    <tr>\n",
       "      <th>SA</th>\n",
       "      <td>8</td>\n",
       "      <td>GMT+9.30</td>\n",
       "      <td>TBD</td>\n",
       "      <td>1.0</td>\n",
       "      <td>SOUTHERN AUSTRALIA</td>\n",
       "    </tr>\n",
       "    <tr>\n",
       "      <th>VIC</th>\n",
       "      <td>20</td>\n",
       "      <td>GMT+10</td>\n",
       "      <td>TBD</td>\n",
       "      <td>2.5</td>\n",
       "      <td>VICTORIA</td>\n",
       "    </tr>\n",
       "    <tr>\n",
       "      <th>NSW</th>\n",
       "      <td>22</td>\n",
       "      <td>GMT+10</td>\n",
       "      <td>TBD</td>\n",
       "      <td>2.7</td>\n",
       "      <td>NEW SOUTH WALES</td>\n",
       "    </tr>\n",
       "    <tr>\n",
       "      <th>ACT</th>\n",
       "      <td>15</td>\n",
       "      <td>GMT+10</td>\n",
       "      <td>TBD</td>\n",
       "      <td>0.5</td>\n",
       "      <td>AUSTRALIAN CAPITAL TERRITORY</td>\n",
       "    </tr>\n",
       "    <tr>\n",
       "      <th>QLD</th>\n",
       "      <td>18</td>\n",
       "      <td>GMT+10</td>\n",
       "      <td>TBD</td>\n",
       "      <td>1.5</td>\n",
       "      <td>QUEENSLAND</td>\n",
       "    </tr>\n",
       "    <tr>\n",
       "      <th>NT</th>\n",
       "      <td>8</td>\n",
       "      <td>GMT+9.30</td>\n",
       "      <td>TBD</td>\n",
       "      <td>0.4</td>\n",
       "      <td>NORTHERN TERRITORY</td>\n",
       "    </tr>\n",
       "  </tbody>\n",
       "</table>\n",
       "</div>"
      ],
      "text/plain": [
       "     GDP        TZ area  pop                         state\n",
       "WA    11     GMT+8  TBD  1.0             WESTERN AUSTRALIA\n",
       "SA     8  GMT+9.30  TBD  1.0            SOUTHERN AUSTRALIA\n",
       "VIC   20    GMT+10  TBD  2.5                      VICTORIA\n",
       "NSW   22    GMT+10  TBD  2.7               NEW SOUTH WALES\n",
       "ACT   15    GMT+10  TBD  0.5  AUSTRALIAN CAPITAL TERRITORY\n",
       "QLD   18    GMT+10  TBD  1.5                    QUEENSLAND\n",
       "NT     8  GMT+9.30  TBD  0.4            NORTHERN TERRITORY"
      ]
     },
     "execution_count": 73,
     "metadata": {},
     "output_type": "execute_result"
    }
   ],
   "source": [
    "df_states.sort_index(axis=1)"
   ]
  },
  {
   "cell_type": "markdown",
   "metadata": {},
   "source": [
    "### Sorting by values\n",
    "\n",
    "Instead of indexes and labels, we can also sort the data by the actual values in the columns.\n",
    "\n",
    "For this purpose, there is another function, sort_values(), that can be used. This function will do the sorting on the basis of values instead of the labels.\n",
    "\n",
    "See below code snippet for an example, where we will arrange the values by GDP Column:\n"
   ]
  },
  {
   "cell_type": "code",
   "execution_count": 74,
   "metadata": {},
   "outputs": [
    {
     "data": {
      "text/html": [
       "<div>\n",
       "<style scoped>\n",
       "    .dataframe tbody tr th:only-of-type {\n",
       "        vertical-align: middle;\n",
       "    }\n",
       "\n",
       "    .dataframe tbody tr th {\n",
       "        vertical-align: top;\n",
       "    }\n",
       "\n",
       "    .dataframe thead th {\n",
       "        text-align: right;\n",
       "    }\n",
       "</style>\n",
       "<table border=\"1\" class=\"dataframe\">\n",
       "  <thead>\n",
       "    <tr style=\"text-align: right;\">\n",
       "      <th></th>\n",
       "      <th>state</th>\n",
       "      <th>TZ</th>\n",
       "      <th>pop</th>\n",
       "      <th>GDP</th>\n",
       "      <th>area</th>\n",
       "    </tr>\n",
       "  </thead>\n",
       "  <tbody>\n",
       "    <tr>\n",
       "      <th>WA</th>\n",
       "      <td>WESTERN AUSTRALIA</td>\n",
       "      <td>GMT+8</td>\n",
       "      <td>1.0</td>\n",
       "      <td>11</td>\n",
       "      <td>TBD</td>\n",
       "    </tr>\n",
       "    <tr>\n",
       "      <th>SA</th>\n",
       "      <td>SOUTHERN AUSTRALIA</td>\n",
       "      <td>GMT+9.30</td>\n",
       "      <td>1.0</td>\n",
       "      <td>8</td>\n",
       "      <td>TBD</td>\n",
       "    </tr>\n",
       "    <tr>\n",
       "      <th>VIC</th>\n",
       "      <td>VICTORIA</td>\n",
       "      <td>GMT+10</td>\n",
       "      <td>2.5</td>\n",
       "      <td>20</td>\n",
       "      <td>TBD</td>\n",
       "    </tr>\n",
       "    <tr>\n",
       "      <th>NSW</th>\n",
       "      <td>NEW SOUTH WALES</td>\n",
       "      <td>GMT+10</td>\n",
       "      <td>2.7</td>\n",
       "      <td>22</td>\n",
       "      <td>TBD</td>\n",
       "    </tr>\n",
       "    <tr>\n",
       "      <th>ACT</th>\n",
       "      <td>AUSTRALIAN CAPITAL TERRITORY</td>\n",
       "      <td>GMT+10</td>\n",
       "      <td>0.5</td>\n",
       "      <td>15</td>\n",
       "      <td>TBD</td>\n",
       "    </tr>\n",
       "    <tr>\n",
       "      <th>QLD</th>\n",
       "      <td>QUEENSLAND</td>\n",
       "      <td>GMT+10</td>\n",
       "      <td>1.5</td>\n",
       "      <td>18</td>\n",
       "      <td>TBD</td>\n",
       "    </tr>\n",
       "    <tr>\n",
       "      <th>NT</th>\n",
       "      <td>NORTHERN TERRITORY</td>\n",
       "      <td>GMT+9.30</td>\n",
       "      <td>0.4</td>\n",
       "      <td>8</td>\n",
       "      <td>TBD</td>\n",
       "    </tr>\n",
       "  </tbody>\n",
       "</table>\n",
       "</div>"
      ],
      "text/plain": [
       "                            state        TZ  pop  GDP area\n",
       "WA              WESTERN AUSTRALIA     GMT+8  1.0   11  TBD\n",
       "SA             SOUTHERN AUSTRALIA  GMT+9.30  1.0    8  TBD\n",
       "VIC                      VICTORIA    GMT+10  2.5   20  TBD\n",
       "NSW               NEW SOUTH WALES    GMT+10  2.7   22  TBD\n",
       "ACT  AUSTRALIAN CAPITAL TERRITORY    GMT+10  0.5   15  TBD\n",
       "QLD                    QUEENSLAND    GMT+10  1.5   18  TBD\n",
       "NT             NORTHERN TERRITORY  GMT+9.30  0.4    8  TBD"
      ]
     },
     "execution_count": 74,
     "metadata": {},
     "output_type": "execute_result"
    }
   ],
   "source": [
    "df_states"
   ]
  },
  {
   "cell_type": "code",
   "execution_count": 75,
   "metadata": {},
   "outputs": [
    {
     "data": {
      "text/html": [
       "<div>\n",
       "<style scoped>\n",
       "    .dataframe tbody tr th:only-of-type {\n",
       "        vertical-align: middle;\n",
       "    }\n",
       "\n",
       "    .dataframe tbody tr th {\n",
       "        vertical-align: top;\n",
       "    }\n",
       "\n",
       "    .dataframe thead th {\n",
       "        text-align: right;\n",
       "    }\n",
       "</style>\n",
       "<table border=\"1\" class=\"dataframe\">\n",
       "  <thead>\n",
       "    <tr style=\"text-align: right;\">\n",
       "      <th></th>\n",
       "      <th>state</th>\n",
       "      <th>TZ</th>\n",
       "      <th>pop</th>\n",
       "      <th>GDP</th>\n",
       "      <th>area</th>\n",
       "    </tr>\n",
       "  </thead>\n",
       "  <tbody>\n",
       "    <tr>\n",
       "      <th>SA</th>\n",
       "      <td>SOUTHERN AUSTRALIA</td>\n",
       "      <td>GMT+9.30</td>\n",
       "      <td>1.0</td>\n",
       "      <td>8</td>\n",
       "      <td>TBD</td>\n",
       "    </tr>\n",
       "    <tr>\n",
       "      <th>NT</th>\n",
       "      <td>NORTHERN TERRITORY</td>\n",
       "      <td>GMT+9.30</td>\n",
       "      <td>0.4</td>\n",
       "      <td>8</td>\n",
       "      <td>TBD</td>\n",
       "    </tr>\n",
       "    <tr>\n",
       "      <th>WA</th>\n",
       "      <td>WESTERN AUSTRALIA</td>\n",
       "      <td>GMT+8</td>\n",
       "      <td>1.0</td>\n",
       "      <td>11</td>\n",
       "      <td>TBD</td>\n",
       "    </tr>\n",
       "    <tr>\n",
       "      <th>ACT</th>\n",
       "      <td>AUSTRALIAN CAPITAL TERRITORY</td>\n",
       "      <td>GMT+10</td>\n",
       "      <td>0.5</td>\n",
       "      <td>15</td>\n",
       "      <td>TBD</td>\n",
       "    </tr>\n",
       "    <tr>\n",
       "      <th>QLD</th>\n",
       "      <td>QUEENSLAND</td>\n",
       "      <td>GMT+10</td>\n",
       "      <td>1.5</td>\n",
       "      <td>18</td>\n",
       "      <td>TBD</td>\n",
       "    </tr>\n",
       "    <tr>\n",
       "      <th>VIC</th>\n",
       "      <td>VICTORIA</td>\n",
       "      <td>GMT+10</td>\n",
       "      <td>2.5</td>\n",
       "      <td>20</td>\n",
       "      <td>TBD</td>\n",
       "    </tr>\n",
       "    <tr>\n",
       "      <th>NSW</th>\n",
       "      <td>NEW SOUTH WALES</td>\n",
       "      <td>GMT+10</td>\n",
       "      <td>2.7</td>\n",
       "      <td>22</td>\n",
       "      <td>TBD</td>\n",
       "    </tr>\n",
       "  </tbody>\n",
       "</table>\n",
       "</div>"
      ],
      "text/plain": [
       "                            state        TZ  pop  GDP area\n",
       "SA             SOUTHERN AUSTRALIA  GMT+9.30  1.0    8  TBD\n",
       "NT             NORTHERN TERRITORY  GMT+9.30  0.4    8  TBD\n",
       "WA              WESTERN AUSTRALIA     GMT+8  1.0   11  TBD\n",
       "ACT  AUSTRALIAN CAPITAL TERRITORY    GMT+10  0.5   15  TBD\n",
       "QLD                    QUEENSLAND    GMT+10  1.5   18  TBD\n",
       "VIC                      VICTORIA    GMT+10  2.5   20  TBD\n",
       "NSW               NEW SOUTH WALES    GMT+10  2.7   22  TBD"
      ]
     },
     "execution_count": 75,
     "metadata": {},
     "output_type": "execute_result"
    }
   ],
   "source": [
    "#Sort Data by GDP Column\n",
    "df_states.sort_values('GDP')"
   ]
  },
  {
   "cell_type": "markdown",
   "metadata": {},
   "source": [
    "## Pandas: Mathematical and Statistical Methods\n",
    "\n",
    "Think back to Module 1 and the basic statistical methods that you learnt about. As you can imagine, it would be very laborious to calculate statistics on large datasets by hand. Fortunately, there are various mathematical and statistical methods in Pandas to automate some of the calculations. Available methods include summation, finding maximum and minimum values, and generating descriptive statistics.  \n",
    "\n",
    "Let’s explore these methods with some code examples:\n",
    "\n",
    "\n",
    "### Sum() Method\n",
    "\n",
    "Summation is a common step in calculating statistics such as the mean and standard deviation. This method calculates the summation on a per column basis, and returns the result as a Pandas Series."
   ]
  },
  {
   "cell_type": "code",
   "execution_count": 76,
   "metadata": {},
   "outputs": [
    {
     "data": {
      "text/html": [
       "<div>\n",
       "<style scoped>\n",
       "    .dataframe tbody tr th:only-of-type {\n",
       "        vertical-align: middle;\n",
       "    }\n",
       "\n",
       "    .dataframe tbody tr th {\n",
       "        vertical-align: top;\n",
       "    }\n",
       "\n",
       "    .dataframe thead th {\n",
       "        text-align: right;\n",
       "    }\n",
       "</style>\n",
       "<table border=\"1\" class=\"dataframe\">\n",
       "  <thead>\n",
       "    <tr style=\"text-align: right;\">\n",
       "      <th></th>\n",
       "      <th>c1</th>\n",
       "      <th>c2</th>\n",
       "      <th>c3</th>\n",
       "      <th>c4</th>\n",
       "      <th>c5</th>\n",
       "      <th>c6</th>\n",
       "    </tr>\n",
       "  </thead>\n",
       "  <tbody>\n",
       "    <tr>\n",
       "      <th>r1</th>\n",
       "      <td>0.451248</td>\n",
       "      <td>0.303380</td>\n",
       "      <td>0.525824</td>\n",
       "      <td>0.829252</td>\n",
       "      <td>0.074487</td>\n",
       "      <td>0.984284</td>\n",
       "    </tr>\n",
       "    <tr>\n",
       "      <th>r2</th>\n",
       "      <td>0.813071</td>\n",
       "      <td>0.253054</td>\n",
       "      <td>0.075256</td>\n",
       "      <td>0.662304</td>\n",
       "      <td>0.505875</td>\n",
       "      <td>0.625479</td>\n",
       "    </tr>\n",
       "    <tr>\n",
       "      <th>r3</th>\n",
       "      <td>0.848968</td>\n",
       "      <td>0.761424</td>\n",
       "      <td>0.672255</td>\n",
       "      <td>0.515681</td>\n",
       "      <td>0.840526</td>\n",
       "      <td>0.723294</td>\n",
       "    </tr>\n",
       "    <tr>\n",
       "      <th>r4</th>\n",
       "      <td>0.916662</td>\n",
       "      <td>0.153794</td>\n",
       "      <td>0.792369</td>\n",
       "      <td>0.115728</td>\n",
       "      <td>0.697299</td>\n",
       "      <td>0.847526</td>\n",
       "    </tr>\n",
       "  </tbody>\n",
       "</table>\n",
       "</div>"
      ],
      "text/plain": [
       "          c1        c2        c3        c4        c5        c6\n",
       "r1  0.451248  0.303380  0.525824  0.829252  0.074487  0.984284\n",
       "r2  0.813071  0.253054  0.075256  0.662304  0.505875  0.625479\n",
       "r3  0.848968  0.761424  0.672255  0.515681  0.840526  0.723294\n",
       "r4  0.916662  0.153794  0.792369  0.115728  0.697299  0.847526"
      ]
     },
     "execution_count": 76,
     "metadata": {},
     "output_type": "execute_result"
    }
   ],
   "source": [
    "new_df = DataFrame(np.random.rand(24).reshape((4,6)), \n",
    "                   index=['r1','r2','r3','r4'], \n",
    "                   columns=['c1','c2','c3','c4','c5','c6'])\n",
    "new_df"
   ]
  },
  {
   "cell_type": "code",
   "execution_count": 77,
   "metadata": {},
   "outputs": [
    {
     "data": {
      "text/plain": [
       "c1    3.029950\n",
       "c2    1.471652\n",
       "c3    2.065705\n",
       "c4    2.122964\n",
       "c5    2.118187\n",
       "c6    3.180582\n",
       "dtype: float64"
      ]
     },
     "execution_count": 77,
     "metadata": {},
     "output_type": "execute_result"
    }
   ],
   "source": [
    "#Get summation for all the columns\n",
    "new_df.sum()"
   ]
  },
  {
   "cell_type": "code",
   "execution_count": 78,
   "metadata": {},
   "outputs": [
    {
     "data": {
      "text/plain": [
       "r1    3.168475\n",
       "r2    2.935038\n",
       "r3    4.362148\n",
       "r4    3.523379\n",
       "dtype: float64"
      ]
     },
     "execution_count": 78,
     "metadata": {},
     "output_type": "execute_result"
    }
   ],
   "source": [
    "#Get summation for all the rows, along column axis\n",
    "new_df.sum(axis=1)"
   ]
  },
  {
   "cell_type": "markdown",
   "metadata": {},
   "source": [
    "### Min(), Max() methods\n",
    "\n",
    "As the name suggests, these methods will return the minimum and maximum values respectively for every column. These methods form the basis for other statistics such as finding the range of a set of values."
   ]
  },
  {
   "cell_type": "code",
   "execution_count": 79,
   "metadata": {},
   "outputs": [
    {
     "data": {
      "text/html": [
       "<div>\n",
       "<style scoped>\n",
       "    .dataframe tbody tr th:only-of-type {\n",
       "        vertical-align: middle;\n",
       "    }\n",
       "\n",
       "    .dataframe tbody tr th {\n",
       "        vertical-align: top;\n",
       "    }\n",
       "\n",
       "    .dataframe thead th {\n",
       "        text-align: right;\n",
       "    }\n",
       "</style>\n",
       "<table border=\"1\" class=\"dataframe\">\n",
       "  <thead>\n",
       "    <tr style=\"text-align: right;\">\n",
       "      <th></th>\n",
       "      <th>c1</th>\n",
       "      <th>c2</th>\n",
       "      <th>c3</th>\n",
       "      <th>c4</th>\n",
       "      <th>c5</th>\n",
       "      <th>c6</th>\n",
       "    </tr>\n",
       "  </thead>\n",
       "  <tbody>\n",
       "    <tr>\n",
       "      <th>r1</th>\n",
       "      <td>0.451248</td>\n",
       "      <td>0.303380</td>\n",
       "      <td>0.525824</td>\n",
       "      <td>0.829252</td>\n",
       "      <td>0.074487</td>\n",
       "      <td>0.984284</td>\n",
       "    </tr>\n",
       "    <tr>\n",
       "      <th>r2</th>\n",
       "      <td>0.813071</td>\n",
       "      <td>0.253054</td>\n",
       "      <td>0.075256</td>\n",
       "      <td>0.662304</td>\n",
       "      <td>0.505875</td>\n",
       "      <td>0.625479</td>\n",
       "    </tr>\n",
       "    <tr>\n",
       "      <th>r3</th>\n",
       "      <td>0.848968</td>\n",
       "      <td>0.761424</td>\n",
       "      <td>0.672255</td>\n",
       "      <td>0.515681</td>\n",
       "      <td>0.840526</td>\n",
       "      <td>0.723294</td>\n",
       "    </tr>\n",
       "    <tr>\n",
       "      <th>r4</th>\n",
       "      <td>0.916662</td>\n",
       "      <td>0.153794</td>\n",
       "      <td>0.792369</td>\n",
       "      <td>0.115728</td>\n",
       "      <td>0.697299</td>\n",
       "      <td>0.847526</td>\n",
       "    </tr>\n",
       "  </tbody>\n",
       "</table>\n",
       "</div>"
      ],
      "text/plain": [
       "          c1        c2        c3        c4        c5        c6\n",
       "r1  0.451248  0.303380  0.525824  0.829252  0.074487  0.984284\n",
       "r2  0.813071  0.253054  0.075256  0.662304  0.505875  0.625479\n",
       "r3  0.848968  0.761424  0.672255  0.515681  0.840526  0.723294\n",
       "r4  0.916662  0.153794  0.792369  0.115728  0.697299  0.847526"
      ]
     },
     "execution_count": 79,
     "metadata": {},
     "output_type": "execute_result"
    }
   ],
   "source": [
    "##Check the DataFrame\n",
    "new_df"
   ]
  },
  {
   "cell_type": "code",
   "execution_count": 80,
   "metadata": {},
   "outputs": [
    {
     "data": {
      "text/plain": [
       "c1    0.451248\n",
       "c2    0.153794\n",
       "c3    0.075256\n",
       "c4    0.115728\n",
       "c5    0.074487\n",
       "c6    0.625479\n",
       "dtype: float64"
      ]
     },
     "execution_count": 80,
     "metadata": {},
     "output_type": "execute_result"
    }
   ],
   "source": [
    "## Minimum for every columns, across the rows axis\n",
    "new_df.min()"
   ]
  },
  {
   "cell_type": "code",
   "execution_count": 81,
   "metadata": {},
   "outputs": [
    {
     "data": {
      "text/plain": [
       "r1    0.074487\n",
       "r2    0.075256\n",
       "r3    0.515681\n",
       "r4    0.115728\n",
       "dtype: float64"
      ]
     },
     "execution_count": 81,
     "metadata": {},
     "output_type": "execute_result"
    }
   ],
   "source": [
    "##minimum across the columns, per rows\n",
    "new_df.min(axis=1)"
   ]
  },
  {
   "cell_type": "markdown",
   "metadata": {},
   "source": [
    "### Describe() Method\n",
    "\n",
    "The describe method provides the summary statistics, such as mean, range, and standard deviation, of all the data columns available in the DataFrame.\n",
    "\n",
    "See the below code snippet for an example:"
   ]
  },
  {
   "cell_type": "code",
   "execution_count": 82,
   "metadata": {},
   "outputs": [
    {
     "data": {
      "text/html": [
       "<div>\n",
       "<style scoped>\n",
       "    .dataframe tbody tr th:only-of-type {\n",
       "        vertical-align: middle;\n",
       "    }\n",
       "\n",
       "    .dataframe tbody tr th {\n",
       "        vertical-align: top;\n",
       "    }\n",
       "\n",
       "    .dataframe thead th {\n",
       "        text-align: right;\n",
       "    }\n",
       "</style>\n",
       "<table border=\"1\" class=\"dataframe\">\n",
       "  <thead>\n",
       "    <tr style=\"text-align: right;\">\n",
       "      <th></th>\n",
       "      <th>c1</th>\n",
       "      <th>c2</th>\n",
       "      <th>c3</th>\n",
       "      <th>c4</th>\n",
       "      <th>c5</th>\n",
       "      <th>c6</th>\n",
       "    </tr>\n",
       "  </thead>\n",
       "  <tbody>\n",
       "    <tr>\n",
       "      <th>r1</th>\n",
       "      <td>0.451248</td>\n",
       "      <td>0.303380</td>\n",
       "      <td>0.525824</td>\n",
       "      <td>0.829252</td>\n",
       "      <td>0.074487</td>\n",
       "      <td>0.984284</td>\n",
       "    </tr>\n",
       "    <tr>\n",
       "      <th>r2</th>\n",
       "      <td>0.813071</td>\n",
       "      <td>0.253054</td>\n",
       "      <td>0.075256</td>\n",
       "      <td>0.662304</td>\n",
       "      <td>0.505875</td>\n",
       "      <td>0.625479</td>\n",
       "    </tr>\n",
       "    <tr>\n",
       "      <th>r3</th>\n",
       "      <td>0.848968</td>\n",
       "      <td>0.761424</td>\n",
       "      <td>0.672255</td>\n",
       "      <td>0.515681</td>\n",
       "      <td>0.840526</td>\n",
       "      <td>0.723294</td>\n",
       "    </tr>\n",
       "    <tr>\n",
       "      <th>r4</th>\n",
       "      <td>0.916662</td>\n",
       "      <td>0.153794</td>\n",
       "      <td>0.792369</td>\n",
       "      <td>0.115728</td>\n",
       "      <td>0.697299</td>\n",
       "      <td>0.847526</td>\n",
       "    </tr>\n",
       "  </tbody>\n",
       "</table>\n",
       "</div>"
      ],
      "text/plain": [
       "          c1        c2        c3        c4        c5        c6\n",
       "r1  0.451248  0.303380  0.525824  0.829252  0.074487  0.984284\n",
       "r2  0.813071  0.253054  0.075256  0.662304  0.505875  0.625479\n",
       "r3  0.848968  0.761424  0.672255  0.515681  0.840526  0.723294\n",
       "r4  0.916662  0.153794  0.792369  0.115728  0.697299  0.847526"
      ]
     },
     "execution_count": 82,
     "metadata": {},
     "output_type": "execute_result"
    }
   ],
   "source": [
    "##Check the original DataFrame\n",
    "new_df"
   ]
  },
  {
   "cell_type": "code",
   "execution_count": 83,
   "metadata": {},
   "outputs": [
    {
     "data": {
      "text/html": [
       "<div>\n",
       "<style scoped>\n",
       "    .dataframe tbody tr th:only-of-type {\n",
       "        vertical-align: middle;\n",
       "    }\n",
       "\n",
       "    .dataframe tbody tr th {\n",
       "        vertical-align: top;\n",
       "    }\n",
       "\n",
       "    .dataframe thead th {\n",
       "        text-align: right;\n",
       "    }\n",
       "</style>\n",
       "<table border=\"1\" class=\"dataframe\">\n",
       "  <thead>\n",
       "    <tr style=\"text-align: right;\">\n",
       "      <th></th>\n",
       "      <th>c1</th>\n",
       "      <th>c2</th>\n",
       "      <th>c3</th>\n",
       "      <th>c4</th>\n",
       "      <th>c5</th>\n",
       "      <th>c6</th>\n",
       "    </tr>\n",
       "  </thead>\n",
       "  <tbody>\n",
       "    <tr>\n",
       "      <th>count</th>\n",
       "      <td>4.000000</td>\n",
       "      <td>4.000000</td>\n",
       "      <td>4.000000</td>\n",
       "      <td>4.000000</td>\n",
       "      <td>4.000000</td>\n",
       "      <td>4.000000</td>\n",
       "    </tr>\n",
       "    <tr>\n",
       "      <th>mean</th>\n",
       "      <td>0.757488</td>\n",
       "      <td>0.367913</td>\n",
       "      <td>0.516426</td>\n",
       "      <td>0.530741</td>\n",
       "      <td>0.529547</td>\n",
       "      <td>0.795146</td>\n",
       "    </tr>\n",
       "    <tr>\n",
       "      <th>std</th>\n",
       "      <td>0.208628</td>\n",
       "      <td>0.269601</td>\n",
       "      <td>0.313659</td>\n",
       "      <td>0.304893</td>\n",
       "      <td>0.332911</td>\n",
       "      <td>0.155420</td>\n",
       "    </tr>\n",
       "    <tr>\n",
       "      <th>min</th>\n",
       "      <td>0.451248</td>\n",
       "      <td>0.153794</td>\n",
       "      <td>0.075256</td>\n",
       "      <td>0.115728</td>\n",
       "      <td>0.074487</td>\n",
       "      <td>0.625479</td>\n",
       "    </tr>\n",
       "    <tr>\n",
       "      <th>25%</th>\n",
       "      <td>0.722615</td>\n",
       "      <td>0.228239</td>\n",
       "      <td>0.413182</td>\n",
       "      <td>0.415693</td>\n",
       "      <td>0.398028</td>\n",
       "      <td>0.698840</td>\n",
       "    </tr>\n",
       "    <tr>\n",
       "      <th>50%</th>\n",
       "      <td>0.831020</td>\n",
       "      <td>0.278217</td>\n",
       "      <td>0.599040</td>\n",
       "      <td>0.588992</td>\n",
       "      <td>0.601587</td>\n",
       "      <td>0.785410</td>\n",
       "    </tr>\n",
       "    <tr>\n",
       "      <th>75%</th>\n",
       "      <td>0.865892</td>\n",
       "      <td>0.417891</td>\n",
       "      <td>0.702284</td>\n",
       "      <td>0.704041</td>\n",
       "      <td>0.733105</td>\n",
       "      <td>0.881715</td>\n",
       "    </tr>\n",
       "    <tr>\n",
       "      <th>max</th>\n",
       "      <td>0.916662</td>\n",
       "      <td>0.761424</td>\n",
       "      <td>0.792369</td>\n",
       "      <td>0.829252</td>\n",
       "      <td>0.840526</td>\n",
       "      <td>0.984284</td>\n",
       "    </tr>\n",
       "  </tbody>\n",
       "</table>\n",
       "</div>"
      ],
      "text/plain": [
       "             c1        c2        c3        c4        c5        c6\n",
       "count  4.000000  4.000000  4.000000  4.000000  4.000000  4.000000\n",
       "mean   0.757488  0.367913  0.516426  0.530741  0.529547  0.795146\n",
       "std    0.208628  0.269601  0.313659  0.304893  0.332911  0.155420\n",
       "min    0.451248  0.153794  0.075256  0.115728  0.074487  0.625479\n",
       "25%    0.722615  0.228239  0.413182  0.415693  0.398028  0.698840\n",
       "50%    0.831020  0.278217  0.599040  0.588992  0.601587  0.785410\n",
       "75%    0.865892  0.417891  0.702284  0.704041  0.733105  0.881715\n",
       "max    0.916662  0.761424  0.792369  0.829252  0.840526  0.984284"
      ]
     },
     "execution_count": 83,
     "metadata": {},
     "output_type": "execute_result"
    }
   ],
   "source": [
    "##Check the summary statistics of the DataFrame\n",
    "new_df.describe()"
   ]
  },
  {
   "cell_type": "markdown",
   "metadata": {},
   "source": [
    "For an exhaustive list of methods, refer to the Pandas API Documentation.<br>\n",
    "Refer to: https://pandas.pydata.org/pandas-docs/stable/reference/index.html \n",
    "\n",
    "We will also explore some additional methods by way of demonstration throughout the course."
   ]
  },
  {
   "cell_type": "code",
   "execution_count": null,
   "metadata": {},
   "outputs": [],
   "source": []
  }
 ],
 "metadata": {
  "kernelspec": {
   "display_name": "Python 3",
   "language": "python",
   "name": "python3"
  },
  "language_info": {
   "codemirror_mode": {
    "name": "ipython",
    "version": 3
   },
   "file_extension": ".py",
   "mimetype": "text/x-python",
   "name": "python",
   "nbconvert_exporter": "python",
   "pygments_lexer": "ipython3",
   "version": "3.8.3"
  }
 },
 "nbformat": 4,
 "nbformat_minor": 2
}
